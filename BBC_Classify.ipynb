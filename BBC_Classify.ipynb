{
  "nbformat": 4,
  "nbformat_minor": 0,
  "metadata": {
    "colab": {
      "name": "BBC Classify.ipynb",
      "provenance": [],
      "collapsed_sections": [],
      "mount_file_id": "1vHdDaCiq3dqX1V_Q-2ZZSOzchxogTPYB",
      "authorship_tag": "ABX9TyPcE/IyMEzIIGlkEdaDn5mR",
      "include_colab_link": true
    },
    "kernelspec": {
      "name": "python3",
      "display_name": "Python 3"
    },
    "language_info": {
      "name": "python"
    }
  },
  "cells": [
    {
      "cell_type": "markdown",
      "metadata": {
        "id": "view-in-github",
        "colab_type": "text"
      },
      "source": [
        "<a href=\"https://colab.research.google.com/github/varshaelza/Text-Summarization-Categorization/blob/main/BBC_Classify.ipynb\" target=\"_parent\"><img src=\"https://colab.research.google.com/assets/colab-badge.svg\" alt=\"Open In Colab\"/></a>"
      ]
    },
    {
      "cell_type": "code",
      "metadata": {
        "id": "O7U9UdWmZbFn"
      },
      "source": [
        "import pandas as pd\n",
        "train = pd.read_csv('/content/drive/MyDrive/BBC Dataset/bbcsummtrain.csv')"
      ],
      "execution_count": null,
      "outputs": []
    },
    {
      "cell_type": "code",
      "metadata": {
        "colab": {
          "base_uri": "https://localhost:8080/",
          "height": 1000
        },
        "id": "mS8rvG5zczvL",
        "outputId": "9936469b-4a17-4020-e98f-b5801d0401e3"
      },
      "source": [
        "train"
      ],
      "execution_count": null,
      "outputs": [
        {
          "output_type": "execute_result",
          "data": {
            "text/html": [
              "<div>\n",
              "<style scoped>\n",
              "    .dataframe tbody tr th:only-of-type {\n",
              "        vertical-align: middle;\n",
              "    }\n",
              "\n",
              "    .dataframe tbody tr th {\n",
              "        vertical-align: top;\n",
              "    }\n",
              "\n",
              "    .dataframe thead th {\n",
              "        text-align: right;\n",
              "    }\n",
              "</style>\n",
              "<table border=\"1\" class=\"dataframe\">\n",
              "  <thead>\n",
              "    <tr style=\"text-align: right;\">\n",
              "      <th></th>\n",
              "      <th>Unnamed: 0</th>\n",
              "      <th>News</th>\n",
              "      <th>Summary</th>\n",
              "      <th>Category_id</th>\n",
              "      <th>Type</th>\n",
              "      <th>News_lower</th>\n",
              "      <th>news_wo_nltab</th>\n",
              "      <th>news_wo_stop</th>\n",
              "      <th>news_wo_no</th>\n",
              "      <th>news_stem(porter)</th>\n",
              "      <th>news_stem(lancast)</th>\n",
              "      <th>news_stem(snow)</th>\n",
              "      <th>news_stem(reg)</th>\n",
              "      <th>news_lemmatize(wordnet)</th>\n",
              "      <th>news_wo_punct</th>\n",
              "      <th>news_wo_punct&amp;single</th>\n",
              "      <th>news_tokenized(reg)</th>\n",
              "      <th>news_tokenized(sent)</th>\n",
              "      <th>news_tokenized(words)</th>\n",
              "    </tr>\n",
              "  </thead>\n",
              "  <tbody>\n",
              "    <tr>\n",
              "      <th>0</th>\n",
              "      <td>0</td>\n",
              "      <td>Online games play with politics\\n \\n After bub...</td>\n",
              "      <td>Dr Frasca said: \"Political campaigns will cont...</td>\n",
              "      <td>4</td>\n",
              "      <td>tech</td>\n",
              "      <td>online games play with politics\\n \\n after bub...</td>\n",
              "      <td>online games play with politics. . after bubbl...</td>\n",
              "      <td>online games play politics. . bubbling time, o...</td>\n",
              "      <td>online games play politics. . bubbling time, o...</td>\n",
              "      <td>onlin game play politics. . bubbl time, onlin ...</td>\n",
              "      <td>onlin gam play politics. . bubbl time, onlin g...</td>\n",
              "      <td>onlin game play politics. . bubbl time, onlin ...</td>\n",
              "      <td>onlin game play politics. . bubbl time, onlin ...</td>\n",
              "      <td>online game play politics. . bubbling time, on...</td>\n",
              "      <td>online game play politics. . bubbling time  on...</td>\n",
              "      <td>. bubbling time online game broke onto politi...</td>\n",
              "      <td>[' bubbling time online game broke onto politi...</td>\n",
              "      <td>[' .', 'bubbling time online game broke onto p...</td>\n",
              "      <td>['bubbling', 'time', 'online', 'game', 'broke'...</td>\n",
              "    </tr>\n",
              "    <tr>\n",
              "      <th>1</th>\n",
              "      <td>1</td>\n",
              "      <td>Hague 'given up' his PM ambition\\n \\n Former C...</td>\n",
              "      <td>Mr Hague became an MP at 27 and Leader of the ...</td>\n",
              "      <td>2</td>\n",
              "      <td>politics</td>\n",
              "      <td>hague 'given up' his pm ambition\\n \\n former c...</td>\n",
              "      <td>hague 'given up' his pm ambition. . former con...</td>\n",
              "      <td>hague 'given up' pm ambition. . former conserv...</td>\n",
              "      <td>hague 'given up' pm ambition. . former conserv...</td>\n",
              "      <td>hagu 'given up' pm ambition. . former conserv ...</td>\n",
              "      <td>hagu 'given up' pm ambition. . form conserv le...</td>\n",
              "      <td>hagu given up pm ambition. . former conserv le...</td>\n",
              "      <td>hagu 'given up' pm ambition. . former conserva...</td>\n",
              "      <td>hague 'given up' pm ambition. . former conserv...</td>\n",
              "      <td>hague  given up  pm ambition. . former conserv...</td>\n",
              "      <td>. former conservative leader william hague sa...</td>\n",
              "      <td>[' former conservative leader william hague sa...</td>\n",
              "      <td>[' .', 'former conservative leader william hag...</td>\n",
              "      <td>['former', 'conservative', 'leader', 'william'...</td>\n",
              "    </tr>\n",
              "    <tr>\n",
              "      <th>2</th>\n",
              "      <td>2</td>\n",
              "      <td>M&amp;S cuts prices by average of 24%\\n \\n Marks &amp;...</td>\n",
              "      <td>\"We are bringing in ranges at new price points...</td>\n",
              "      <td>0</td>\n",
              "      <td>business</td>\n",
              "      <td>m&amp;s cuts prices by average of 24%\\n \\n marks &amp;...</td>\n",
              "      <td>m&amp;s cuts prices by average of 24%. . marks &amp; s...</td>\n",
              "      <td>m&amp;s cuts prices average 24%. . marks &amp; spencer...</td>\n",
              "      <td>m&amp;s cuts prices average %. . marks &amp; spencer c...</td>\n",
              "      <td>m&amp; cut price averag %. . mark &amp; spencer cut pr...</td>\n",
              "      <td>m&amp;s cut pric av %. . mark &amp; spent cut pric lon...</td>\n",
              "      <td>m&amp;s cut price averag %. . mark &amp; spencer cut p...</td>\n",
              "      <td>m&amp;s cut price averag %. . mark &amp; spencer cut p...</td>\n",
              "      <td>m&amp;s cut price average %. . mark &amp; spencer cut ...</td>\n",
              "      <td>m s cut price average  . . mark   spencer cut ...</td>\n",
              "      <td>. mark spencer cut price london region averag...</td>\n",
              "      <td>[' mark spencer cut price london region averag...</td>\n",
              "      <td>[' .', 'mark spencer cut price london region a...</td>\n",
              "      <td>['mark', 'spencer', 'cut', 'price', 'london', ...</td>\n",
              "    </tr>\n",
              "    <tr>\n",
              "      <th>3</th>\n",
              "      <td>3</td>\n",
              "      <td>Zambia confident and cautious\\n \\n Zambia's te...</td>\n",
              "      <td>That victory for Angola also marked a first de...</td>\n",
              "      <td>3</td>\n",
              "      <td>sport</td>\n",
              "      <td>zambia confident and cautious\\n \\n zambia's te...</td>\n",
              "      <td>zambia confident and cautious. . zambia's tech...</td>\n",
              "      <td>zambia confident cautious. . zambia's technica...</td>\n",
              "      <td>zambia confident cautious. . zambia's technica...</td>\n",
              "      <td>zambia confid cautious. . zambia' technic dire...</td>\n",
              "      <td>zamb confid cautious. . zambia's techn directo...</td>\n",
              "      <td>zambia confid cautious. . zambia technic direc...</td>\n",
              "      <td>zambia confident cautious. . zambia' technical...</td>\n",
              "      <td>zambia confident cautious. . zambia's technica...</td>\n",
              "      <td>zambia confident cautious. . zambia s technica...</td>\n",
              "      <td>. zambia technical director kalusha bwalya co...</td>\n",
              "      <td>[' zambia technical director kalusha bwalya co...</td>\n",
              "      <td>[' .', 'zambia technical director kalusha bwal...</td>\n",
              "      <td>['zambia', 'technical', 'director', 'kalusha',...</td>\n",
              "    </tr>\n",
              "    <tr>\n",
              "      <th>4</th>\n",
              "      <td>4</td>\n",
              "      <td>Federer joins all-time greats\\n \\n The last ye...</td>\n",
              "      <td>Andy Roddick was the only player to put up any...</td>\n",
              "      <td>3</td>\n",
              "      <td>sport</td>\n",
              "      <td>federer joins all-time greats\\n \\n the last ye...</td>\n",
              "      <td>federer joins all-time greats. . the last year...</td>\n",
              "      <td>federer joins all-time greats. . last year see...</td>\n",
              "      <td>federer joins all-time greats. . last year see...</td>\n",
              "      <td>feder join all-tim greats. . last year seen on...</td>\n",
              "      <td>fed join all-time greats. . last year seen on ...</td>\n",
              "      <td>feder join all-tim greats. . last year seen on...</td>\n",
              "      <td>federer join all-tim greats. . last year seen ...</td>\n",
              "      <td>federer join all-time greats. . last year seen...</td>\n",
              "      <td>federer join all time greats. . last year seen...</td>\n",
              "      <td>. last year seen one player dominate men tenn...</td>\n",
              "      <td>[' last year seen one player dominate men tenn...</td>\n",
              "      <td>[' .', 'last year seen one player dominate men...</td>\n",
              "      <td>['last', 'year', 'seen', 'one', 'player', 'dom...</td>\n",
              "    </tr>\n",
              "    <tr>\n",
              "      <th>...</th>\n",
              "      <td>...</td>\n",
              "      <td>...</td>\n",
              "      <td>...</td>\n",
              "      <td>...</td>\n",
              "      <td>...</td>\n",
              "      <td>...</td>\n",
              "      <td>...</td>\n",
              "      <td>...</td>\n",
              "      <td>...</td>\n",
              "      <td>...</td>\n",
              "      <td>...</td>\n",
              "      <td>...</td>\n",
              "      <td>...</td>\n",
              "      <td>...</td>\n",
              "      <td>...</td>\n",
              "      <td>...</td>\n",
              "      <td>...</td>\n",
              "      <td>...</td>\n",
              "      <td>...</td>\n",
              "    </tr>\n",
              "    <tr>\n",
              "      <th>1775</th>\n",
              "      <td>1775</td>\n",
              "      <td>India seeks to boost construction\\n \\n India h...</td>\n",
              "      <td>He said, \"No country can develop on the basis ...</td>\n",
              "      <td>0</td>\n",
              "      <td>business</td>\n",
              "      <td>india seeks to boost construction\\n \\n india h...</td>\n",
              "      <td>india seeks to boost construction. . india has...</td>\n",
              "      <td>india seeks boost construction. . india cleare...</td>\n",
              "      <td>india seeks boost construction. . india cleare...</td>\n",
              "      <td>india seek boost construction. . india clear p...</td>\n",
              "      <td>ind seek boost construction. . ind clear propo...</td>\n",
              "      <td>india seek boost construction. . india clear p...</td>\n",
              "      <td>india seek boost construction. . india cleared...</td>\n",
              "      <td>india seek boost construction. . india cleared...</td>\n",
              "      <td>india seek boost construction. . india cleared...</td>\n",
              "      <td>. india cleared proposal allowing foreign dir...</td>\n",
              "      <td>[' india cleared proposal allowing foreign dir...</td>\n",
              "      <td>[' .', 'india cleared proposal allowing foreig...</td>\n",
              "      <td>['india', 'cleared', 'proposal', 'allowing', '...</td>\n",
              "    </tr>\n",
              "    <tr>\n",
              "      <th>1776</th>\n",
              "      <td>1776</td>\n",
              "      <td>Child access laws shake-up\\n \\n Parents who re...</td>\n",
              "      <td>Curfews and community service orders were othe...</td>\n",
              "      <td>2</td>\n",
              "      <td>politics</td>\n",
              "      <td>child access laws shake-up\\n \\n parents who re...</td>\n",
              "      <td>child access laws shake-up. . parents who refu...</td>\n",
              "      <td>child access laws shake-up. . parents refuse a...</td>\n",
              "      <td>child access laws shake-up. . parents refuse a...</td>\n",
              "      <td>child access law shake-up. . parent refus allo...</td>\n",
              "      <td>child access law shake-up. . par refus allow f...</td>\n",
              "      <td>child access law shake-up. . parent refus allo...</td>\n",
              "      <td>child acces law shake-up. . parent refus allow...</td>\n",
              "      <td>child access law shake-up. . parent refuse all...</td>\n",
              "      <td>child access law shake up. . parent refuse all...</td>\n",
              "      <td>. parent refuse allow former partner contact ...</td>\n",
              "      <td>[' parent refuse allow former partner contact ...</td>\n",
              "      <td>[' .', 'parent refuse allow former partner con...</td>\n",
              "      <td>['parent', 'refuse', 'allow', 'former', 'partn...</td>\n",
              "    </tr>\n",
              "    <tr>\n",
              "      <th>1777</th>\n",
              "      <td>1777</td>\n",
              "      <td>Parliament's record of scandal\\n \\n In a locke...</td>\n",
              "      <td>But divorces are by no means the only document...</td>\n",
              "      <td>2</td>\n",
              "      <td>politics</td>\n",
              "      <td>parliament's record of scandal\\n \\n in a locke...</td>\n",
              "      <td>parliament's record of scandal. . in a locked ...</td>\n",
              "      <td>parliament's record scandal. . locked room hea...</td>\n",
              "      <td>parliament's record scandal. . locked room hea...</td>\n",
              "      <td>parliament' record scandal. . lock room heart ...</td>\n",
              "      <td>parliament's record scandal. . lock room heart...</td>\n",
              "      <td>parliament record scandal. . lock room heart p...</td>\n",
              "      <td>parliament' record scandal. . locked room hear...</td>\n",
              "      <td>parliament's record scandal. . locked room hea...</td>\n",
              "      <td>parliament s record scandal. . locked room hea...</td>\n",
              "      <td>. locked room heart parliament hive scandal. ...</td>\n",
              "      <td>[' locked room heart parliament hive scandal',...</td>\n",
              "      <td>[' .', 'locked room heart parliament hive scan...</td>\n",
              "      <td>['locked', 'room', 'heart', 'parliament', 'hiv...</td>\n",
              "    </tr>\n",
              "    <tr>\n",
              "      <th>1778</th>\n",
              "      <td>1778</td>\n",
              "      <td>Prutton poised for lengthy FA ban\\n \\n Southam...</td>\n",
              "      <td>He was out of order but he knows that,\" said R...</td>\n",
              "      <td>3</td>\n",
              "      <td>sport</td>\n",
              "      <td>prutton poised for lengthy fa ban\\n \\n southam...</td>\n",
              "      <td>prutton poised for lengthy fa ban. . southampt...</td>\n",
              "      <td>prutton poised lengthy fa ban. . southampton's...</td>\n",
              "      <td>prutton poised lengthy fa ban. . southampton's...</td>\n",
              "      <td>prutton pois lengthi fa ban. . southampton' da...</td>\n",
              "      <td>prutton pois lengthy fa ban. . southampton's d...</td>\n",
              "      <td>prutton pois lengthi fa ban. . southampton dav...</td>\n",
              "      <td>prutton poised lengthy fa ban. . southampton' ...</td>\n",
              "      <td>prutton poised lengthy fa ban. . southampton's...</td>\n",
              "      <td>prutton poised lengthy fa ban. . southampton s...</td>\n",
              "      <td>. southampton david prutton face possible sev...</td>\n",
              "      <td>[' southampton david prutton face possible sev...</td>\n",
              "      <td>[' .', 'southampton david prutton face possibl...</td>\n",
              "      <td>['southampton', 'david', 'prutton', 'face', 'p...</td>\n",
              "    </tr>\n",
              "    <tr>\n",
              "      <th>1779</th>\n",
              "      <td>1779</td>\n",
              "      <td>Fry set for role in Hitchhiker's\\n \\n Actor St...</td>\n",
              "      <td>Fry will provide the voice of The Guide, an el...</td>\n",
              "      <td>1</td>\n",
              "      <td>entertainment</td>\n",
              "      <td>fry set for role in hitchhiker's\\n \\n actor st...</td>\n",
              "      <td>fry set for role in hitchhiker's. . actor step...</td>\n",
              "      <td>fry set role hitchhiker's. . actor stephen fry...</td>\n",
              "      <td>fry set role hitchhiker's. . actor stephen fry...</td>\n",
              "      <td>fri set role hitchhiker's. . actor stephen fri...</td>\n",
              "      <td>fry set rol hitchhiker's. . act steph fry join...</td>\n",
              "      <td>fri set role hitchhiker's. . actor stephen fri...</td>\n",
              "      <td>fry set rol hitchhiker's. . actor stephen fry ...</td>\n",
              "      <td>fry set role hitchhiker's. . actor stephen fry...</td>\n",
              "      <td>fry set role hitchhiker s. . actor stephen fry...</td>\n",
              "      <td>. actor stephen fry joining cast forthcoming ...</td>\n",
              "      <td>[' actor stephen fry joining cast forthcoming ...</td>\n",
              "      <td>[' .', 'actor stephen fry joining cast forthco...</td>\n",
              "      <td>['actor', 'stephen', 'fry', 'joining', 'cast',...</td>\n",
              "    </tr>\n",
              "  </tbody>\n",
              "</table>\n",
              "<p>1780 rows × 19 columns</p>\n",
              "</div>"
            ],
            "text/plain": [
              "      Unnamed: 0  ...                              news_tokenized(words)\n",
              "0              0  ...  ['bubbling', 'time', 'online', 'game', 'broke'...\n",
              "1              1  ...  ['former', 'conservative', 'leader', 'william'...\n",
              "2              2  ...  ['mark', 'spencer', 'cut', 'price', 'london', ...\n",
              "3              3  ...  ['zambia', 'technical', 'director', 'kalusha',...\n",
              "4              4  ...  ['last', 'year', 'seen', 'one', 'player', 'dom...\n",
              "...          ...  ...                                                ...\n",
              "1775        1775  ...  ['india', 'cleared', 'proposal', 'allowing', '...\n",
              "1776        1776  ...  ['parent', 'refuse', 'allow', 'former', 'partn...\n",
              "1777        1777  ...  ['locked', 'room', 'heart', 'parliament', 'hiv...\n",
              "1778        1778  ...  ['southampton', 'david', 'prutton', 'face', 'p...\n",
              "1779        1779  ...  ['actor', 'stephen', 'fry', 'joining', 'cast',...\n",
              "\n",
              "[1780 rows x 19 columns]"
            ]
          },
          "metadata": {
            "tags": []
          },
          "execution_count": 21
        }
      ]
    },
    {
      "cell_type": "code",
      "metadata": {
        "id": "C3buT4pSkawl"
      },
      "source": [
        "from sklearn import model_selection\n",
        "Train_X, Test_X, Train_Y, Test_Y = model_selection.train_test_split(train['news_wo_punct&single'],train['Category_id'],test_size=0.25)"
      ],
      "execution_count": null,
      "outputs": []
    },
    {
      "cell_type": "code",
      "metadata": {
        "id": "RY6pp-AidaRq",
        "colab": {
          "base_uri": "https://localhost:8080/",
          "height": 212
        },
        "outputId": "174f8486-c4bc-466c-a631-27fb1955b7e2"
      },
      "source": [
        "Tfidf_vect = TfidfVectorizer(max_features=5000)\n",
        "Tfidf_vect.fit(train['news_wo_punct&single'])\n",
        "Train_X_Tfidf = Tfidf_vect.transform(Train_X)\n",
        "Test_X_Tfidf = Tfidf_vect.transform(Test_X)"
      ],
      "execution_count": null,
      "outputs": [
        {
          "output_type": "error",
          "ename": "NameError",
          "evalue": "ignored",
          "traceback": [
            "\u001b[0;31m---------------------------------------------------------------------------\u001b[0m",
            "\u001b[0;31mNameError\u001b[0m                                 Traceback (most recent call last)",
            "\u001b[0;32m<ipython-input-22-463a1485976a>\u001b[0m in \u001b[0;36m<module>\u001b[0;34m()\u001b[0m\n\u001b[0;32m----> 1\u001b[0;31m \u001b[0mTfidf_vect\u001b[0m \u001b[0;34m=\u001b[0m \u001b[0mTfidfVectorizer\u001b[0m\u001b[0;34m(\u001b[0m\u001b[0mmax_features\u001b[0m\u001b[0;34m=\u001b[0m\u001b[0;36m5000\u001b[0m\u001b[0;34m)\u001b[0m\u001b[0;34m\u001b[0m\u001b[0;34m\u001b[0m\u001b[0m\n\u001b[0m\u001b[1;32m      2\u001b[0m \u001b[0mTfidf_vect\u001b[0m\u001b[0;34m.\u001b[0m\u001b[0mfit\u001b[0m\u001b[0;34m(\u001b[0m\u001b[0mtrain\u001b[0m\u001b[0;34m[\u001b[0m\u001b[0;34m'news_wo_punct&single'\u001b[0m\u001b[0;34m]\u001b[0m\u001b[0;34m)\u001b[0m\u001b[0;34m\u001b[0m\u001b[0;34m\u001b[0m\u001b[0m\n\u001b[1;32m      3\u001b[0m \u001b[0mTrain_X_Tfidf\u001b[0m \u001b[0;34m=\u001b[0m \u001b[0mTfidf_vect\u001b[0m\u001b[0;34m.\u001b[0m\u001b[0mtransform\u001b[0m\u001b[0;34m(\u001b[0m\u001b[0mTrain_X\u001b[0m\u001b[0;34m)\u001b[0m\u001b[0;34m\u001b[0m\u001b[0;34m\u001b[0m\u001b[0m\n\u001b[1;32m      4\u001b[0m \u001b[0mTest_X_Tfidf\u001b[0m \u001b[0;34m=\u001b[0m \u001b[0mTfidf_vect\u001b[0m\u001b[0;34m.\u001b[0m\u001b[0mtransform\u001b[0m\u001b[0;34m(\u001b[0m\u001b[0mTest_X\u001b[0m\u001b[0;34m)\u001b[0m\u001b[0;34m\u001b[0m\u001b[0;34m\u001b[0m\u001b[0m\n",
            "\u001b[0;31mNameError\u001b[0m: name 'TfidfVectorizer' is not defined"
          ]
        }
      ]
    },
    {
      "cell_type": "code",
      "metadata": {
        "id": "1-h2JSV6gDlb"
      },
      "source": [
        "from sklearn.preprocessing import LabelEncoder\n",
        "Encoder = LabelEncoder()\n",
        "Train_Y = Encoder.fit_transform(Train_Y)\n",
        "Test_Y = Encoder.fit_transform(Test_Y)"
      ],
      "execution_count": null,
      "outputs": []
    },
    {
      "cell_type": "code",
      "metadata": {
        "colab": {
          "base_uri": "https://localhost:8080/"
        },
        "id": "HAZ9rFi8d3hk",
        "outputId": "88d759c5-1bc6-4a65-d7f0-9a012108220b"
      },
      "source": [
        "from sklearn import  naive_bayes, svm\n",
        "from sklearn.metrics import accuracy_score\n",
        "SVM = svm.SVC(C=1.0, kernel='linear', degree=3, gamma='auto')\n",
        "SVM.fit(Train_X_Tfidf,Train_Y)\n",
        "# predict the labels on validation dataset\n",
        "predictions_SVM = SVM.predict(Test_X_Tfidf)\n",
        "# Use accuracy_score function to get the accuracy\n",
        "print(\"SVM Accuracy Score -> \",accuracy_score(predictions_SVM, Test_Y)*100)\n",
        "\n",
        "\n"
      ],
      "execution_count": null,
      "outputs": [
        {
          "output_type": "stream",
          "text": [
            "SVM Accuracy Score ->  97.07865168539325\n"
          ],
          "name": "stdout"
        }
      ]
    },
    {
      "cell_type": "code",
      "metadata": {
        "colab": {
          "base_uri": "https://localhost:8080/"
        },
        "id": "xtGNXHUip7US",
        "outputId": "edc6e4d4-979f-43ce-a82a-1e2da5d50f05"
      },
      "source": [
        "Naive = naive_bayes.MultinomialNB()\n",
        "Naive.fit(Train_X_Tfidf,Train_Y)\n",
        "# predict the labels on validation dataset\n",
        "predictions_NB = Naive.predict(Test_X_Tfidf)\n",
        "# Use accuracy_score function to get the accuracy\n",
        "print(\"Naive Bayes Accuracy Score -> \",accuracy_score(predictions_NB, Test_Y)*100)"
      ],
      "execution_count": null,
      "outputs": [
        {
          "output_type": "stream",
          "text": [
            "Naive Bayes Accuracy Score ->  96.85393258426967\n"
          ],
          "name": "stdout"
        }
      ]
    },
    {
      "cell_type": "code",
      "metadata": {
        "id": "83QTXCL_qF0F"
      },
      "source": [
        ""
      ],
      "execution_count": null,
      "outputs": []
    },
    {
      "cell_type": "code",
      "metadata": {
        "id": "Lfb0ZBsXmOGN"
      },
      "source": [
        "import pandas as pd\n",
        "import numpy as np\n",
        "from matplotlib import pyplot as plt\n",
        "%matplotlib inline\n",
        "import os"
      ],
      "execution_count": null,
      "outputs": []
    },
    {
      "cell_type": "code",
      "metadata": {
        "id": "R27-2HVZmYnd"
      },
      "source": [
        "import pandas as pd\n",
        "testdata = pd.read_csv('/content/drive/MyDrive/BBC Dataset/bbcsummtest.csv')"
      ],
      "execution_count": null,
      "outputs": []
    },
    {
      "cell_type": "code",
      "metadata": {
        "colab": {
          "base_uri": "https://localhost:8080/",
          "height": 521
        },
        "id": "8XZ1bjUmmor9",
        "outputId": "47a869a1-a109-4454-bbc5-8e7b19ad0758"
      },
      "source": [
        "testdata"
      ],
      "execution_count": null,
      "outputs": [
        {
          "output_type": "execute_result",
          "data": {
            "text/html": [
              "<div>\n",
              "<style scoped>\n",
              "    .dataframe tbody tr th:only-of-type {\n",
              "        vertical-align: middle;\n",
              "    }\n",
              "\n",
              "    .dataframe tbody tr th {\n",
              "        vertical-align: top;\n",
              "    }\n",
              "\n",
              "    .dataframe thead th {\n",
              "        text-align: right;\n",
              "    }\n",
              "</style>\n",
              "<table border=\"1\" class=\"dataframe\">\n",
              "  <thead>\n",
              "    <tr style=\"text-align: right;\">\n",
              "      <th></th>\n",
              "      <th>Unnamed: 0</th>\n",
              "      <th>News</th>\n",
              "      <th>Summary</th>\n",
              "      <th>Category_id</th>\n",
              "      <th>Type</th>\n",
              "    </tr>\n",
              "  </thead>\n",
              "  <tbody>\n",
              "    <tr>\n",
              "      <th>0</th>\n",
              "      <td>1288</td>\n",
              "      <td>Labour battle plan 'hides Blair'\\n \\n The Tori...</td>\n",
              "      <td>Mr Milburn said the economy would take centre ...</td>\n",
              "      <td>2</td>\n",
              "      <td>politics</td>\n",
              "    </tr>\n",
              "    <tr>\n",
              "      <th>1</th>\n",
              "      <td>1170</td>\n",
              "      <td>Tutu's Guantanamo release call\\n \\n Archbishop...</td>\n",
              "      <td>The South African archbishop said detentions w...</td>\n",
              "      <td>2</td>\n",
              "      <td>politics</td>\n",
              "    </tr>\n",
              "    <tr>\n",
              "      <th>2</th>\n",
              "      <td>1388</td>\n",
              "      <td>Holmes starts 2005 with GB events\\n \\n Kelly H...</td>\n",
              "      <td>Holmes will make her first track appearance on...</td>\n",
              "      <td>3</td>\n",
              "      <td>sport</td>\n",
              "    </tr>\n",
              "    <tr>\n",
              "      <th>3</th>\n",
              "      <td>1109</td>\n",
              "      <td>Tory expert denies defeatism\\n \\n The Conserva...</td>\n",
              "      <td>Mr Howard appointed Mr Crosby as his elections...</td>\n",
              "      <td>2</td>\n",
              "      <td>politics</td>\n",
              "    </tr>\n",
              "    <tr>\n",
              "      <th>4</th>\n",
              "      <td>1851</td>\n",
              "      <td>Movie body targets children's PCs\\n \\n The bod...</td>\n",
              "      <td>The Movie Association for America's (MPAA) fre...</td>\n",
              "      <td>4</td>\n",
              "      <td>tech</td>\n",
              "    </tr>\n",
              "    <tr>\n",
              "      <th>...</th>\n",
              "      <td>...</td>\n",
              "      <td>...</td>\n",
              "      <td>...</td>\n",
              "      <td>...</td>\n",
              "      <td>...</td>\n",
              "    </tr>\n",
              "    <tr>\n",
              "      <th>440</th>\n",
              "      <td>1117</td>\n",
              "      <td>NHS waiting time target is cut\\n \\n Hospital w...</td>\n",
              "      <td>\"But let us not forget two thirds of those wai...</td>\n",
              "      <td>2</td>\n",
              "      <td>politics</td>\n",
              "    </tr>\n",
              "    <tr>\n",
              "      <th>441</th>\n",
              "      <td>1234</td>\n",
              "      <td>Baron Kinnock makes Lords debut\\n \\n Former La...</td>\n",
              "      <td>Former Labour leader Neil Kinnock has official...</td>\n",
              "      <td>2</td>\n",
              "      <td>politics</td>\n",
              "    </tr>\n",
              "    <tr>\n",
              "      <th>442</th>\n",
              "      <td>1720</td>\n",
              "      <td>Player burn-out worries Robinson\\n \\n England ...</td>\n",
              "      <td>England coach Andy Robinson says English rugby...</td>\n",
              "      <td>3</td>\n",
              "      <td>sport</td>\n",
              "    </tr>\n",
              "    <tr>\n",
              "      <th>443</th>\n",
              "      <td>1230</td>\n",
              "      <td>Blunkett hints at election call\\n \\n Ex-Home S...</td>\n",
              "      <td>He clarified that he meant he would be in his ...</td>\n",
              "      <td>2</td>\n",
              "      <td>politics</td>\n",
              "    </tr>\n",
              "    <tr>\n",
              "      <th>444</th>\n",
              "      <td>491</td>\n",
              "      <td>Fed chief warning on US deficit\\n \\n Federal R...</td>\n",
              "      <td>Federal Reserve chairman Alan Greenspan has wa...</td>\n",
              "      <td>0</td>\n",
              "      <td>business</td>\n",
              "    </tr>\n",
              "  </tbody>\n",
              "</table>\n",
              "<p>445 rows × 5 columns</p>\n",
              "</div>"
            ],
            "text/plain": [
              "     Unnamed: 0  ...      Type\n",
              "0          1288  ...  politics\n",
              "1          1170  ...  politics\n",
              "2          1388  ...     sport\n",
              "3          1109  ...  politics\n",
              "4          1851  ...      tech\n",
              "..          ...  ...       ...\n",
              "440        1117  ...  politics\n",
              "441        1234  ...  politics\n",
              "442        1720  ...     sport\n",
              "443        1230  ...  politics\n",
              "444         491  ...  business\n",
              "\n",
              "[445 rows x 5 columns]"
            ]
          },
          "metadata": {
            "tags": []
          },
          "execution_count": 37
        }
      ]
    },
    {
      "cell_type": "code",
      "metadata": {
        "colab": {
          "base_uri": "https://localhost:8080/",
          "height": 419
        },
        "id": "CHYta308mrWo",
        "outputId": "1656bce6-707a-4577-c57e-03bf82216db9"
      },
      "source": [
        "testdata.drop(testdata.columns[testdata.columns.str.contains('unnamed',case= False)],axis=1,inplace=True)\n",
        "testdata"
      ],
      "execution_count": null,
      "outputs": [
        {
          "output_type": "execute_result",
          "data": {
            "text/html": [
              "<div>\n",
              "<style scoped>\n",
              "    .dataframe tbody tr th:only-of-type {\n",
              "        vertical-align: middle;\n",
              "    }\n",
              "\n",
              "    .dataframe tbody tr th {\n",
              "        vertical-align: top;\n",
              "    }\n",
              "\n",
              "    .dataframe thead th {\n",
              "        text-align: right;\n",
              "    }\n",
              "</style>\n",
              "<table border=\"1\" class=\"dataframe\">\n",
              "  <thead>\n",
              "    <tr style=\"text-align: right;\">\n",
              "      <th></th>\n",
              "      <th>News</th>\n",
              "      <th>Summary</th>\n",
              "      <th>Category_id</th>\n",
              "      <th>Type</th>\n",
              "    </tr>\n",
              "  </thead>\n",
              "  <tbody>\n",
              "    <tr>\n",
              "      <th>0</th>\n",
              "      <td>Labour battle plan 'hides Blair'\\n \\n The Tori...</td>\n",
              "      <td>Mr Milburn said the economy would take centre ...</td>\n",
              "      <td>2</td>\n",
              "      <td>politics</td>\n",
              "    </tr>\n",
              "    <tr>\n",
              "      <th>1</th>\n",
              "      <td>Tutu's Guantanamo release call\\n \\n Archbishop...</td>\n",
              "      <td>The South African archbishop said detentions w...</td>\n",
              "      <td>2</td>\n",
              "      <td>politics</td>\n",
              "    </tr>\n",
              "    <tr>\n",
              "      <th>2</th>\n",
              "      <td>Holmes starts 2005 with GB events\\n \\n Kelly H...</td>\n",
              "      <td>Holmes will make her first track appearance on...</td>\n",
              "      <td>3</td>\n",
              "      <td>sport</td>\n",
              "    </tr>\n",
              "    <tr>\n",
              "      <th>3</th>\n",
              "      <td>Tory expert denies defeatism\\n \\n The Conserva...</td>\n",
              "      <td>Mr Howard appointed Mr Crosby as his elections...</td>\n",
              "      <td>2</td>\n",
              "      <td>politics</td>\n",
              "    </tr>\n",
              "    <tr>\n",
              "      <th>4</th>\n",
              "      <td>Movie body targets children's PCs\\n \\n The bod...</td>\n",
              "      <td>The Movie Association for America's (MPAA) fre...</td>\n",
              "      <td>4</td>\n",
              "      <td>tech</td>\n",
              "    </tr>\n",
              "    <tr>\n",
              "      <th>...</th>\n",
              "      <td>...</td>\n",
              "      <td>...</td>\n",
              "      <td>...</td>\n",
              "      <td>...</td>\n",
              "    </tr>\n",
              "    <tr>\n",
              "      <th>440</th>\n",
              "      <td>NHS waiting time target is cut\\n \\n Hospital w...</td>\n",
              "      <td>\"But let us not forget two thirds of those wai...</td>\n",
              "      <td>2</td>\n",
              "      <td>politics</td>\n",
              "    </tr>\n",
              "    <tr>\n",
              "      <th>441</th>\n",
              "      <td>Baron Kinnock makes Lords debut\\n \\n Former La...</td>\n",
              "      <td>Former Labour leader Neil Kinnock has official...</td>\n",
              "      <td>2</td>\n",
              "      <td>politics</td>\n",
              "    </tr>\n",
              "    <tr>\n",
              "      <th>442</th>\n",
              "      <td>Player burn-out worries Robinson\\n \\n England ...</td>\n",
              "      <td>England coach Andy Robinson says English rugby...</td>\n",
              "      <td>3</td>\n",
              "      <td>sport</td>\n",
              "    </tr>\n",
              "    <tr>\n",
              "      <th>443</th>\n",
              "      <td>Blunkett hints at election call\\n \\n Ex-Home S...</td>\n",
              "      <td>He clarified that he meant he would be in his ...</td>\n",
              "      <td>2</td>\n",
              "      <td>politics</td>\n",
              "    </tr>\n",
              "    <tr>\n",
              "      <th>444</th>\n",
              "      <td>Fed chief warning on US deficit\\n \\n Federal R...</td>\n",
              "      <td>Federal Reserve chairman Alan Greenspan has wa...</td>\n",
              "      <td>0</td>\n",
              "      <td>business</td>\n",
              "    </tr>\n",
              "  </tbody>\n",
              "</table>\n",
              "<p>445 rows × 4 columns</p>\n",
              "</div>"
            ],
            "text/plain": [
              "                                                  News  ...      Type\n",
              "0    Labour battle plan 'hides Blair'\\n \\n The Tori...  ...  politics\n",
              "1    Tutu's Guantanamo release call\\n \\n Archbishop...  ...  politics\n",
              "2    Holmes starts 2005 with GB events\\n \\n Kelly H...  ...     sport\n",
              "3    Tory expert denies defeatism\\n \\n The Conserva...  ...  politics\n",
              "4    Movie body targets children's PCs\\n \\n The bod...  ...      tech\n",
              "..                                                 ...  ...       ...\n",
              "440  NHS waiting time target is cut\\n \\n Hospital w...  ...  politics\n",
              "441  Baron Kinnock makes Lords debut\\n \\n Former La...  ...  politics\n",
              "442  Player burn-out worries Robinson\\n \\n England ...  ...     sport\n",
              "443  Blunkett hints at election call\\n \\n Ex-Home S...  ...  politics\n",
              "444  Fed chief warning on US deficit\\n \\n Federal R...  ...  business\n",
              "\n",
              "[445 rows x 4 columns]"
            ]
          },
          "metadata": {
            "tags": []
          },
          "execution_count": 38
        }
      ]
    },
    {
      "cell_type": "code",
      "metadata": {
        "colab": {
          "base_uri": "https://localhost:8080/",
          "height": 289
        },
        "id": "OUY763HTm95e",
        "outputId": "28ae6377-ed71-40f9-a04c-9755d8fdea0d"
      },
      "source": [
        "testdata[\"News_lower\"] = testdata[\"News\"].str.lower()\n",
        "testdata.head()"
      ],
      "execution_count": null,
      "outputs": [
        {
          "output_type": "execute_result",
          "data": {
            "text/html": [
              "<div>\n",
              "<style scoped>\n",
              "    .dataframe tbody tr th:only-of-type {\n",
              "        vertical-align: middle;\n",
              "    }\n",
              "\n",
              "    .dataframe tbody tr th {\n",
              "        vertical-align: top;\n",
              "    }\n",
              "\n",
              "    .dataframe thead th {\n",
              "        text-align: right;\n",
              "    }\n",
              "</style>\n",
              "<table border=\"1\" class=\"dataframe\">\n",
              "  <thead>\n",
              "    <tr style=\"text-align: right;\">\n",
              "      <th></th>\n",
              "      <th>News</th>\n",
              "      <th>Summary</th>\n",
              "      <th>Category_id</th>\n",
              "      <th>Type</th>\n",
              "      <th>News_lower</th>\n",
              "    </tr>\n",
              "  </thead>\n",
              "  <tbody>\n",
              "    <tr>\n",
              "      <th>0</th>\n",
              "      <td>Labour battle plan 'hides Blair'\\n \\n The Tori...</td>\n",
              "      <td>Mr Milburn said the economy would take centre ...</td>\n",
              "      <td>2</td>\n",
              "      <td>politics</td>\n",
              "      <td>labour battle plan 'hides blair'\\n \\n the tori...</td>\n",
              "    </tr>\n",
              "    <tr>\n",
              "      <th>1</th>\n",
              "      <td>Tutu's Guantanamo release call\\n \\n Archbishop...</td>\n",
              "      <td>The South African archbishop said detentions w...</td>\n",
              "      <td>2</td>\n",
              "      <td>politics</td>\n",
              "      <td>tutu's guantanamo release call\\n \\n archbishop...</td>\n",
              "    </tr>\n",
              "    <tr>\n",
              "      <th>2</th>\n",
              "      <td>Holmes starts 2005 with GB events\\n \\n Kelly H...</td>\n",
              "      <td>Holmes will make her first track appearance on...</td>\n",
              "      <td>3</td>\n",
              "      <td>sport</td>\n",
              "      <td>holmes starts 2005 with gb events\\n \\n kelly h...</td>\n",
              "    </tr>\n",
              "    <tr>\n",
              "      <th>3</th>\n",
              "      <td>Tory expert denies defeatism\\n \\n The Conserva...</td>\n",
              "      <td>Mr Howard appointed Mr Crosby as his elections...</td>\n",
              "      <td>2</td>\n",
              "      <td>politics</td>\n",
              "      <td>tory expert denies defeatism\\n \\n the conserva...</td>\n",
              "    </tr>\n",
              "    <tr>\n",
              "      <th>4</th>\n",
              "      <td>Movie body targets children's PCs\\n \\n The bod...</td>\n",
              "      <td>The Movie Association for America's (MPAA) fre...</td>\n",
              "      <td>4</td>\n",
              "      <td>tech</td>\n",
              "      <td>movie body targets children's pcs\\n \\n the bod...</td>\n",
              "    </tr>\n",
              "  </tbody>\n",
              "</table>\n",
              "</div>"
            ],
            "text/plain": [
              "                                                News  ...                                         News_lower\n",
              "0  Labour battle plan 'hides Blair'\\n \\n The Tori...  ...  labour battle plan 'hides blair'\\n \\n the tori...\n",
              "1  Tutu's Guantanamo release call\\n \\n Archbishop...  ...  tutu's guantanamo release call\\n \\n archbishop...\n",
              "2  Holmes starts 2005 with GB events\\n \\n Kelly H...  ...  holmes starts 2005 with gb events\\n \\n kelly h...\n",
              "3  Tory expert denies defeatism\\n \\n The Conserva...  ...  tory expert denies defeatism\\n \\n the conserva...\n",
              "4  Movie body targets children's PCs\\n \\n The bod...  ...  movie body targets children's pcs\\n \\n the bod...\n",
              "\n",
              "[5 rows x 5 columns]"
            ]
          },
          "metadata": {
            "tags": []
          },
          "execution_count": 39
        }
      ]
    },
    {
      "cell_type": "code",
      "metadata": {
        "id": "VtQshULanLqs"
      },
      "source": [
        "testdata['news_wo_nltab'] = testdata['News_lower'].replace('\\n','.', regex=True)\n",
        "testdata['news_wo_nltab'] = testdata['news_wo_nltab'].replace('\\t',' ', regex=True)\n",
        "testdata['news_wo_nltab'] = testdata['news_wo_nltab'].replace(r'\\.+', \".\", regex=True)"
      ],
      "execution_count": null,
      "outputs": []
    },
    {
      "cell_type": "code",
      "metadata": {
        "colab": {
          "base_uri": "https://localhost:8080/"
        },
        "id": "ZlXve4c0nWzc",
        "outputId": "8a712a2b-9af1-4f45-aa76-c352395b2046"
      },
      "source": [
        "import nltk\n",
        "nltk.download('stopwords')\n",
        "from nltk.corpus import stopwords\n",
        "#print(stopwords.words('english'))\n",
        "STOPWORDS = set(stopwords.words('english'))\n",
        "def remove_stopwords(text):\n",
        "    \"\"\"custom function to remove the stopwords\"\"\"\n",
        "    return \" \".join([word for word in str(text).split() if word not in STOPWORDS])\n",
        "testdata[\"news_wo_stop\"] = testdata[\"news_wo_nltab\"].apply(lambda text: remove_stopwords(text))\n",
        "#traindata.head()"
      ],
      "execution_count": null,
      "outputs": [
        {
          "output_type": "stream",
          "text": [
            "[nltk_data] Downloading package stopwords to /root/nltk_data...\n",
            "[nltk_data]   Unzipping corpora/stopwords.zip.\n"
          ],
          "name": "stdout"
        }
      ]
    },
    {
      "cell_type": "code",
      "metadata": {
        "id": "eXZfZEjPndHI"
      },
      "source": [
        "testdata['news_wo_no'] = testdata['news_wo_stop'].str.replace('(\\d*\\.\\d+)|(\\d+\\.[0-9 ]+)|(\\d)', '')"
      ],
      "execution_count": null,
      "outputs": []
    },
    {
      "cell_type": "code",
      "metadata": {
        "colab": {
          "base_uri": "https://localhost:8080/"
        },
        "id": "mUfb9fPfniC8",
        "outputId": "d5fb829b-e16e-4a3d-b8d9-8e9f5ab92556"
      },
      "source": [
        "from nltk.stem import WordNetLemmatizer\n",
        "import nltk\n",
        "nltk.download('wordnet')\n",
        "lemmatizer = WordNetLemmatizer()\n",
        "def lemmatize_words(text):\n",
        "    return \" \".join([lemmatizer.lemmatize(word) for word in text.split()])\n",
        "\n",
        "testdata[\"news_lemmatize(wordnet)\"] = testdata[\"news_wo_no\"].apply(lambda text: lemmatize_words(text))\n",
        "#traindata.head()"
      ],
      "execution_count": null,
      "outputs": [
        {
          "output_type": "stream",
          "text": [
            "[nltk_data] Downloading package wordnet to /root/nltk_data...\n",
            "[nltk_data]   Unzipping corpora/wordnet.zip.\n"
          ],
          "name": "stdout"
        }
      ]
    },
    {
      "cell_type": "code",
      "metadata": {
        "id": "HHeY3NqWnrIL"
      },
      "source": [
        "import string\n",
        "PUNCT_TO_REMOVE =  '''!()-[]{};:'\"\\,<>/?@#$%^&*_~'''\n",
        "def remove_punctuation(text):\n",
        "    \"\"\"custom function to remove the punctuation\"\"\"\n",
        "    no_punct = \"\"\n",
        "    for char in text:\n",
        "      if char not in PUNCT_TO_REMOVE:\n",
        "        no_punct = no_punct + char\n",
        "      else:\n",
        "        no_punct = no_punct + ' '\n",
        "    return(no_punct)\n",
        "testdata[\"news_wo_punct\"] = testdata[\"news_lemmatize(wordnet)\"].apply(lambda text: remove_punctuation(text))\n",
        "#traindata.head()"
      ],
      "execution_count": null,
      "outputs": []
    },
    {
      "cell_type": "code",
      "metadata": {
        "id": "jV7vfHGUnxD2"
      },
      "source": [
        "testdata['news_wo_punct'] = testdata['news_wo_punct'].replace(r'\\.+', \".\", regex=True)"
      ],
      "execution_count": null,
      "outputs": []
    },
    {
      "cell_type": "code",
      "metadata": {
        "id": "hYZDD641n3GW"
      },
      "source": [
        "STOPWORDS = ['a' ,'b', 'c','d','e','f' ,'g' ,'h','i','j','k','l','m','n','o' ,'p' ,'q','r','s','t','u' ,'v' ,'w','x','y','z']\n",
        "def remove_stopwords(text):\n",
        "    \"\"\"custom function to remove the stopwords\"\"\"\n",
        "    return \" \".join([word for word in str(text).split() if word not in STOPWORDS])\n",
        "testdata[\"news_wo_punct&single\"] = testdata[\"news_wo_punct\"].apply(lambda text: remove_stopwords(text))\n"
      ],
      "execution_count": null,
      "outputs": []
    },
    {
      "cell_type": "code",
      "metadata": {
        "colab": {
          "base_uri": "https://localhost:8080/",
          "height": 598
        },
        "id": "KyL86neFn-Fl",
        "outputId": "a0bc21c3-13e4-40ee-fdca-fa4d3c28b770"
      },
      "source": [
        "def spl(text):\n",
        "  return text.split('.',1)[1]\n",
        "testdata[\"news_wo_punct&single\"]=testdata[\"news_wo_punct&single\"].apply(lambda text: spl(text))\n",
        "testdata.head()"
      ],
      "execution_count": null,
      "outputs": [
        {
          "output_type": "execute_result",
          "data": {
            "text/html": [
              "<div>\n",
              "<style scoped>\n",
              "    .dataframe tbody tr th:only-of-type {\n",
              "        vertical-align: middle;\n",
              "    }\n",
              "\n",
              "    .dataframe tbody tr th {\n",
              "        vertical-align: top;\n",
              "    }\n",
              "\n",
              "    .dataframe thead th {\n",
              "        text-align: right;\n",
              "    }\n",
              "</style>\n",
              "<table border=\"1\" class=\"dataframe\">\n",
              "  <thead>\n",
              "    <tr style=\"text-align: right;\">\n",
              "      <th></th>\n",
              "      <th>News</th>\n",
              "      <th>Summary</th>\n",
              "      <th>Category_id</th>\n",
              "      <th>Type</th>\n",
              "      <th>News_lower</th>\n",
              "      <th>news_wo_nltab</th>\n",
              "      <th>news_wo_stop</th>\n",
              "      <th>news_wo_no</th>\n",
              "      <th>news_lemmatize(wordnet)</th>\n",
              "      <th>news_wo_punct</th>\n",
              "      <th>news_wo_punct&amp;single</th>\n",
              "    </tr>\n",
              "  </thead>\n",
              "  <tbody>\n",
              "    <tr>\n",
              "      <th>0</th>\n",
              "      <td>Labour battle plan 'hides Blair'\\n \\n The Tori...</td>\n",
              "      <td>Mr Milburn said the economy would take centre ...</td>\n",
              "      <td>2</td>\n",
              "      <td>politics</td>\n",
              "      <td>labour battle plan 'hides blair'\\n \\n the tori...</td>\n",
              "      <td>labour battle plan 'hides blair'. . the tories...</td>\n",
              "      <td>labour battle plan 'hides blair'. . tories acc...</td>\n",
              "      <td>labour battle plan 'hides blair'. . tories acc...</td>\n",
              "      <td>labour battle plan 'hides blair'. . tory accus...</td>\n",
              "      <td>labour battle plan  hides blair . . tory accus...</td>\n",
              "      <td>. tory accused tony blair terrified scrutiny ...</td>\n",
              "    </tr>\n",
              "    <tr>\n",
              "      <th>1</th>\n",
              "      <td>Tutu's Guantanamo release call\\n \\n Archbishop...</td>\n",
              "      <td>The South African archbishop said detentions w...</td>\n",
              "      <td>2</td>\n",
              "      <td>politics</td>\n",
              "      <td>tutu's guantanamo release call\\n \\n archbishop...</td>\n",
              "      <td>tutu's guantanamo release call. . archbishop d...</td>\n",
              "      <td>tutu's guantanamo release call. . archbishop d...</td>\n",
              "      <td>tutu's guantanamo release call. . archbishop d...</td>\n",
              "      <td>tutu's guantanamo release call. . archbishop d...</td>\n",
              "      <td>tutu s guantanamo release call. . archbishop d...</td>\n",
              "      <td>. archbishop desmond tutu called release rema...</td>\n",
              "    </tr>\n",
              "    <tr>\n",
              "      <th>2</th>\n",
              "      <td>Holmes starts 2005 with GB events\\n \\n Kelly H...</td>\n",
              "      <td>Holmes will make her first track appearance on...</td>\n",
              "      <td>3</td>\n",
              "      <td>sport</td>\n",
              "      <td>holmes starts 2005 with gb events\\n \\n kelly h...</td>\n",
              "      <td>holmes starts 2005 with gb events. . kelly hol...</td>\n",
              "      <td>holmes starts 2005 gb events. . kelly holmes s...</td>\n",
              "      <td>holmes starts  gb events. . kelly holmes start...</td>\n",
              "      <td>holmes start gb events. . kelly holmes start s...</td>\n",
              "      <td>holmes start gb events. . kelly holmes start s...</td>\n",
              "      <td>. kelly holmes start series race britain. . h...</td>\n",
              "    </tr>\n",
              "    <tr>\n",
              "      <th>3</th>\n",
              "      <td>Tory expert denies defeatism\\n \\n The Conserva...</td>\n",
              "      <td>Mr Howard appointed Mr Crosby as his elections...</td>\n",
              "      <td>2</td>\n",
              "      <td>politics</td>\n",
              "      <td>tory expert denies defeatism\\n \\n the conserva...</td>\n",
              "      <td>tory expert denies defeatism. . the conservati...</td>\n",
              "      <td>tory expert denies defeatism. . conservatives'...</td>\n",
              "      <td>tory expert denies defeatism. . conservatives'...</td>\n",
              "      <td>tory expert denies defeatism. . conservatives'...</td>\n",
              "      <td>tory expert denies defeatism. . conservatives ...</td>\n",
              "      <td>. conservatives campaign director denied repo...</td>\n",
              "    </tr>\n",
              "    <tr>\n",
              "      <th>4</th>\n",
              "      <td>Movie body targets children's PCs\\n \\n The bod...</td>\n",
              "      <td>The Movie Association for America's (MPAA) fre...</td>\n",
              "      <td>4</td>\n",
              "      <td>tech</td>\n",
              "      <td>movie body targets children's pcs\\n \\n the bod...</td>\n",
              "      <td>movie body targets children's pcs. . the body ...</td>\n",
              "      <td>movie body targets children's pcs. . body repr...</td>\n",
              "      <td>movie body targets children's pcs. . body repr...</td>\n",
              "      <td>movie body target children's pcs. . body repre...</td>\n",
              "      <td>movie body target children s pcs. . body repre...</td>\n",
              "      <td>. body represents movie industry released lat...</td>\n",
              "    </tr>\n",
              "  </tbody>\n",
              "</table>\n",
              "</div>"
            ],
            "text/plain": [
              "                                                News  ...                               news_wo_punct&single\n",
              "0  Labour battle plan 'hides Blair'\\n \\n The Tori...  ...   . tory accused tony blair terrified scrutiny ...\n",
              "1  Tutu's Guantanamo release call\\n \\n Archbishop...  ...   . archbishop desmond tutu called release rema...\n",
              "2  Holmes starts 2005 with GB events\\n \\n Kelly H...  ...   . kelly holmes start series race britain. . h...\n",
              "3  Tory expert denies defeatism\\n \\n The Conserva...  ...   . conservatives campaign director denied repo...\n",
              "4  Movie body targets children's PCs\\n \\n The bod...  ...   . body represents movie industry released lat...\n",
              "\n",
              "[5 rows x 11 columns]"
            ]
          },
          "metadata": {
            "tags": []
          },
          "execution_count": 47
        }
      ]
    },
    {
      "cell_type": "code",
      "metadata": {
        "id": "pEJ0cNMKn3CF"
      },
      "source": [
        "Tfidf_vect = TfidfVectorizer(max_features=5000)\n",
        "Tfidf_vect.fit(train['news_wo_punct&single'])\n",
        "\n",
        "Test_X_Tfidf = Tfidf_vect.transform(testdata['news_wo_punct&single'])"
      ],
      "execution_count": null,
      "outputs": []
    },
    {
      "cell_type": "code",
      "metadata": {
        "id": "mYdBRDpuoa6P"
      },
      "source": [
        "from sklearn.preprocessing import LabelEncoder\n",
        "Encoder = LabelEncoder()\n",
        "\n",
        "Test_Y = Encoder.fit_transform(testdata['Category_id'])"
      ],
      "execution_count": null,
      "outputs": []
    },
    {
      "cell_type": "code",
      "metadata": {
        "colab": {
          "base_uri": "https://localhost:8080/"
        },
        "id": "PF14ikxjnrFW",
        "outputId": "b0e31a6d-613d-436f-eb5a-8466edc9c9da"
      },
      "source": [
        "from sklearn import  naive_bayes, svm\n",
        "from sklearn.metrics import accuracy_score\n",
        "#SVM = svm.SVC(C=1.0, kernel='linear', degree=3, gamma='auto')\n",
        "#SVM.fit(Train_X_Tfidf,Train_Y)\n",
        "# predict the labels on validation dataset\n",
        "predictions_SVM = SVM.predict(Test_X_Tfidf)\n",
        "# Use accuracy_score function to get the accuracy\n",
        "print(\"SVM Accuracy Score -> \",accuracy_score(predictions_SVM, Test_Y)*100)\n"
      ],
      "execution_count": null,
      "outputs": [
        {
          "output_type": "stream",
          "text": [
            "SVM Accuracy Score ->  97.75280898876404\n"
          ],
          "name": "stdout"
        }
      ]
    },
    {
      "cell_type": "code",
      "metadata": {
        "colab": {
          "base_uri": "https://localhost:8080/"
        },
        "id": "KPvdwqqKqoAf",
        "outputId": "468103ed-61e7-4356-a80a-1464fdf904dc"
      },
      "source": [
        "predictions_NB = Naive.predict(Test_X_Tfidf)\n",
        "# Use accuracy_score function to get the accuracy\n",
        "print(\"Naive Bayes Accuracy Score -> \",accuracy_score(predictions_NB, Test_Y)*100)"
      ],
      "execution_count": null,
      "outputs": [
        {
          "output_type": "stream",
          "text": [
            "Naive Bayes Accuracy Score ->  97.07865168539325\n"
          ],
          "name": "stdout"
        }
      ]
    },
    {
      "cell_type": "code",
      "metadata": {
        "id": "83CUNbH9eqYR"
      },
      "source": [
        "y_pred = model.predict(test_features)\n",
        "\n",
        "# Evaluation\n",
        "acc = accuracy_score(test_data[\"sentiment\"], y_pred)\n",
        "\n",
        "print(\"Accuracy on the IMDB dataset: {:.2f}\".format(acc*100))"
      ],
      "execution_count": null,
      "outputs": []
    },
    {
      "cell_type": "code",
      "metadata": {
        "id": "KpatIHW5rm03"
      },
      "source": [
        "temp_lsa = svdT.transform(Train_X_Tfidf)\n",
        "    "
      ],
      "execution_count": null,
      "outputs": []
    },
    {
      "cell_type": "code",
      "metadata": {
        "id": "oAXmqYX7qQGJ"
      },
      "source": [
        "testdata.to_csv('/content/drive/MyDrive/BBC Dataset/bbcsummtest.csv')"
      ],
      "execution_count": null,
      "outputs": []
    },
    {
      "cell_type": "code",
      "metadata": {
        "id": "OvLQN5ujDBOJ"
      },
      "source": [
        ""
      ],
      "execution_count": null,
      "outputs": []
    }
  ]
}