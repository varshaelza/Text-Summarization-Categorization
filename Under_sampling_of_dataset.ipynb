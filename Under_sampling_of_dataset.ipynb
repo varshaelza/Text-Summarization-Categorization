{
  "nbformat": 4,
  "nbformat_minor": 0,
  "metadata": {
    "colab": {
      "name": "Under sampling of dataset.ipynb",
      "provenance": [],
      "mount_file_id": "1cgvrmGzqbtR6HaI5gLKCBlAZWQxBednp",
      "authorship_tag": "ABX9TyMSD/ifMztOnXALhHL5p37z",
      "include_colab_link": true
    },
    "kernelspec": {
      "name": "python3",
      "display_name": "Python 3"
    },
    "language_info": {
      "name": "python"
    }
  },
  "cells": [
    {
      "cell_type": "markdown",
      "metadata": {
        "id": "view-in-github",
        "colab_type": "text"
      },
      "source": [
        "<a href=\"https://colab.research.google.com/github/varshaelza/Text-Summarization-Categorization/blob/main/Under_sampling_of_dataset.ipynb\" target=\"_parent\"><img src=\"https://colab.research.google.com/assets/colab-badge.svg\" alt=\"Open In Colab\"/></a>"
      ]
    },
    {
      "cell_type": "code",
      "metadata": {
        "id": "0qA5J8FlIEDt"
      },
      "source": [
        "import pandas as pd\n",
        "data = pd.read_csv('/content/drive/MyDrive/BBC Dataset/bbcsummtrain.csv')"
      ],
      "execution_count": 1,
      "outputs": []
    },
    {
      "cell_type": "code",
      "metadata": {
        "colab": {
          "base_uri": "https://localhost:8080/",
          "height": 1000
        },
        "id": "f1CF4XKFJIXA",
        "outputId": "601effcb-ae77-48a1-dfef-a9f44737df2d"
      },
      "source": [
        "data"
      ],
      "execution_count": 2,
      "outputs": [
        {
          "output_type": "execute_result",
          "data": {
            "text/html": [
              "<div>\n",
              "<style scoped>\n",
              "    .dataframe tbody tr th:only-of-type {\n",
              "        vertical-align: middle;\n",
              "    }\n",
              "\n",
              "    .dataframe tbody tr th {\n",
              "        vertical-align: top;\n",
              "    }\n",
              "\n",
              "    .dataframe thead th {\n",
              "        text-align: right;\n",
              "    }\n",
              "</style>\n",
              "<table border=\"1\" class=\"dataframe\">\n",
              "  <thead>\n",
              "    <tr style=\"text-align: right;\">\n",
              "      <th></th>\n",
              "      <th>Unnamed: 0</th>\n",
              "      <th>News</th>\n",
              "      <th>Summary</th>\n",
              "      <th>Category_id</th>\n",
              "      <th>Type</th>\n",
              "      <th>News_lower</th>\n",
              "      <th>news_wo_nltab</th>\n",
              "      <th>news_wo_stop</th>\n",
              "      <th>news_wo_no</th>\n",
              "      <th>news_stem(porter)</th>\n",
              "      <th>news_stem(lancast)</th>\n",
              "      <th>news_stem(snow)</th>\n",
              "      <th>news_stem(reg)</th>\n",
              "      <th>news_lemmatize(wordnet)</th>\n",
              "      <th>news_wo_punct</th>\n",
              "      <th>news_wo_punct&amp;single</th>\n",
              "      <th>news_tokenized(reg)</th>\n",
              "      <th>news_tokenized(sent)</th>\n",
              "      <th>news_tokenized(words)</th>\n",
              "    </tr>\n",
              "  </thead>\n",
              "  <tbody>\n",
              "    <tr>\n",
              "      <th>0</th>\n",
              "      <td>0</td>\n",
              "      <td>Online games play with politics\\n \\n After bub...</td>\n",
              "      <td>Dr Frasca said: \"Political campaigns will cont...</td>\n",
              "      <td>4</td>\n",
              "      <td>tech</td>\n",
              "      <td>online games play with politics\\n \\n after bub...</td>\n",
              "      <td>online games play with politics. . after bubbl...</td>\n",
              "      <td>online games play politics. . bubbling time, o...</td>\n",
              "      <td>online games play politics. . bubbling time, o...</td>\n",
              "      <td>onlin game play politics. . bubbl time, onlin ...</td>\n",
              "      <td>onlin gam play politics. . bubbl time, onlin g...</td>\n",
              "      <td>onlin game play politics. . bubbl time, onlin ...</td>\n",
              "      <td>onlin game play politics. . bubbl time, onlin ...</td>\n",
              "      <td>online game play politics. . bubbling time, on...</td>\n",
              "      <td>online game play politics. . bubbling time  on...</td>\n",
              "      <td>. bubbling time online game broke onto politi...</td>\n",
              "      <td>[' bubbling time online game broke onto politi...</td>\n",
              "      <td>[' .', 'bubbling time online game broke onto p...</td>\n",
              "      <td>['bubbling', 'time', 'online', 'game', 'broke'...</td>\n",
              "    </tr>\n",
              "    <tr>\n",
              "      <th>1</th>\n",
              "      <td>1</td>\n",
              "      <td>Hague 'given up' his PM ambition\\n \\n Former C...</td>\n",
              "      <td>Mr Hague became an MP at 27 and Leader of the ...</td>\n",
              "      <td>2</td>\n",
              "      <td>politics</td>\n",
              "      <td>hague 'given up' his pm ambition\\n \\n former c...</td>\n",
              "      <td>hague 'given up' his pm ambition. . former con...</td>\n",
              "      <td>hague 'given up' pm ambition. . former conserv...</td>\n",
              "      <td>hague 'given up' pm ambition. . former conserv...</td>\n",
              "      <td>hagu 'given up' pm ambition. . former conserv ...</td>\n",
              "      <td>hagu 'given up' pm ambition. . form conserv le...</td>\n",
              "      <td>hagu given up pm ambition. . former conserv le...</td>\n",
              "      <td>hagu 'given up' pm ambition. . former conserva...</td>\n",
              "      <td>hague 'given up' pm ambition. . former conserv...</td>\n",
              "      <td>hague  given up  pm ambition. . former conserv...</td>\n",
              "      <td>. former conservative leader william hague sa...</td>\n",
              "      <td>[' former conservative leader william hague sa...</td>\n",
              "      <td>[' .', 'former conservative leader william hag...</td>\n",
              "      <td>['former', 'conservative', 'leader', 'william'...</td>\n",
              "    </tr>\n",
              "    <tr>\n",
              "      <th>2</th>\n",
              "      <td>2</td>\n",
              "      <td>M&amp;S cuts prices by average of 24%\\n \\n Marks &amp;...</td>\n",
              "      <td>\"We are bringing in ranges at new price points...</td>\n",
              "      <td>0</td>\n",
              "      <td>business</td>\n",
              "      <td>m&amp;s cuts prices by average of 24%\\n \\n marks &amp;...</td>\n",
              "      <td>m&amp;s cuts prices by average of 24%. . marks &amp; s...</td>\n",
              "      <td>m&amp;s cuts prices average 24%. . marks &amp; spencer...</td>\n",
              "      <td>m&amp;s cuts prices average %. . marks &amp; spencer c...</td>\n",
              "      <td>m&amp; cut price averag %. . mark &amp; spencer cut pr...</td>\n",
              "      <td>m&amp;s cut pric av %. . mark &amp; spent cut pric lon...</td>\n",
              "      <td>m&amp;s cut price averag %. . mark &amp; spencer cut p...</td>\n",
              "      <td>m&amp;s cut price averag %. . mark &amp; spencer cut p...</td>\n",
              "      <td>m&amp;s cut price average %. . mark &amp; spencer cut ...</td>\n",
              "      <td>m s cut price average  . . mark   spencer cut ...</td>\n",
              "      <td>. mark spencer cut price london region averag...</td>\n",
              "      <td>[' mark spencer cut price london region averag...</td>\n",
              "      <td>[' .', 'mark spencer cut price london region a...</td>\n",
              "      <td>['mark', 'spencer', 'cut', 'price', 'london', ...</td>\n",
              "    </tr>\n",
              "    <tr>\n",
              "      <th>3</th>\n",
              "      <td>3</td>\n",
              "      <td>Zambia confident and cautious\\n \\n Zambia's te...</td>\n",
              "      <td>That victory for Angola also marked a first de...</td>\n",
              "      <td>3</td>\n",
              "      <td>sport</td>\n",
              "      <td>zambia confident and cautious\\n \\n zambia's te...</td>\n",
              "      <td>zambia confident and cautious. . zambia's tech...</td>\n",
              "      <td>zambia confident cautious. . zambia's technica...</td>\n",
              "      <td>zambia confident cautious. . zambia's technica...</td>\n",
              "      <td>zambia confid cautious. . zambia' technic dire...</td>\n",
              "      <td>zamb confid cautious. . zambia's techn directo...</td>\n",
              "      <td>zambia confid cautious. . zambia technic direc...</td>\n",
              "      <td>zambia confident cautious. . zambia' technical...</td>\n",
              "      <td>zambia confident cautious. . zambia's technica...</td>\n",
              "      <td>zambia confident cautious. . zambia s technica...</td>\n",
              "      <td>. zambia technical director kalusha bwalya co...</td>\n",
              "      <td>[' zambia technical director kalusha bwalya co...</td>\n",
              "      <td>[' .', 'zambia technical director kalusha bwal...</td>\n",
              "      <td>['zambia', 'technical', 'director', 'kalusha',...</td>\n",
              "    </tr>\n",
              "    <tr>\n",
              "      <th>4</th>\n",
              "      <td>4</td>\n",
              "      <td>Federer joins all-time greats\\n \\n The last ye...</td>\n",
              "      <td>Andy Roddick was the only player to put up any...</td>\n",
              "      <td>3</td>\n",
              "      <td>sport</td>\n",
              "      <td>federer joins all-time greats\\n \\n the last ye...</td>\n",
              "      <td>federer joins all-time greats. . the last year...</td>\n",
              "      <td>federer joins all-time greats. . last year see...</td>\n",
              "      <td>federer joins all-time greats. . last year see...</td>\n",
              "      <td>feder join all-tim greats. . last year seen on...</td>\n",
              "      <td>fed join all-time greats. . last year seen on ...</td>\n",
              "      <td>feder join all-tim greats. . last year seen on...</td>\n",
              "      <td>federer join all-tim greats. . last year seen ...</td>\n",
              "      <td>federer join all-time greats. . last year seen...</td>\n",
              "      <td>federer join all time greats. . last year seen...</td>\n",
              "      <td>. last year seen one player dominate men tenn...</td>\n",
              "      <td>[' last year seen one player dominate men tenn...</td>\n",
              "      <td>[' .', 'last year seen one player dominate men...</td>\n",
              "      <td>['last', 'year', 'seen', 'one', 'player', 'dom...</td>\n",
              "    </tr>\n",
              "    <tr>\n",
              "      <th>...</th>\n",
              "      <td>...</td>\n",
              "      <td>...</td>\n",
              "      <td>...</td>\n",
              "      <td>...</td>\n",
              "      <td>...</td>\n",
              "      <td>...</td>\n",
              "      <td>...</td>\n",
              "      <td>...</td>\n",
              "      <td>...</td>\n",
              "      <td>...</td>\n",
              "      <td>...</td>\n",
              "      <td>...</td>\n",
              "      <td>...</td>\n",
              "      <td>...</td>\n",
              "      <td>...</td>\n",
              "      <td>...</td>\n",
              "      <td>...</td>\n",
              "      <td>...</td>\n",
              "      <td>...</td>\n",
              "    </tr>\n",
              "    <tr>\n",
              "      <th>1775</th>\n",
              "      <td>1775</td>\n",
              "      <td>India seeks to boost construction\\n \\n India h...</td>\n",
              "      <td>He said, \"No country can develop on the basis ...</td>\n",
              "      <td>0</td>\n",
              "      <td>business</td>\n",
              "      <td>india seeks to boost construction\\n \\n india h...</td>\n",
              "      <td>india seeks to boost construction. . india has...</td>\n",
              "      <td>india seeks boost construction. . india cleare...</td>\n",
              "      <td>india seeks boost construction. . india cleare...</td>\n",
              "      <td>india seek boost construction. . india clear p...</td>\n",
              "      <td>ind seek boost construction. . ind clear propo...</td>\n",
              "      <td>india seek boost construction. . india clear p...</td>\n",
              "      <td>india seek boost construction. . india cleared...</td>\n",
              "      <td>india seek boost construction. . india cleared...</td>\n",
              "      <td>india seek boost construction. . india cleared...</td>\n",
              "      <td>. india cleared proposal allowing foreign dir...</td>\n",
              "      <td>[' india cleared proposal allowing foreign dir...</td>\n",
              "      <td>[' .', 'india cleared proposal allowing foreig...</td>\n",
              "      <td>['india', 'cleared', 'proposal', 'allowing', '...</td>\n",
              "    </tr>\n",
              "    <tr>\n",
              "      <th>1776</th>\n",
              "      <td>1776</td>\n",
              "      <td>Child access laws shake-up\\n \\n Parents who re...</td>\n",
              "      <td>Curfews and community service orders were othe...</td>\n",
              "      <td>2</td>\n",
              "      <td>politics</td>\n",
              "      <td>child access laws shake-up\\n \\n parents who re...</td>\n",
              "      <td>child access laws shake-up. . parents who refu...</td>\n",
              "      <td>child access laws shake-up. . parents refuse a...</td>\n",
              "      <td>child access laws shake-up. . parents refuse a...</td>\n",
              "      <td>child access law shake-up. . parent refus allo...</td>\n",
              "      <td>child access law shake-up. . par refus allow f...</td>\n",
              "      <td>child access law shake-up. . parent refus allo...</td>\n",
              "      <td>child acces law shake-up. . parent refus allow...</td>\n",
              "      <td>child access law shake-up. . parent refuse all...</td>\n",
              "      <td>child access law shake up. . parent refuse all...</td>\n",
              "      <td>. parent refuse allow former partner contact ...</td>\n",
              "      <td>[' parent refuse allow former partner contact ...</td>\n",
              "      <td>[' .', 'parent refuse allow former partner con...</td>\n",
              "      <td>['parent', 'refuse', 'allow', 'former', 'partn...</td>\n",
              "    </tr>\n",
              "    <tr>\n",
              "      <th>1777</th>\n",
              "      <td>1777</td>\n",
              "      <td>Parliament's record of scandal\\n \\n In a locke...</td>\n",
              "      <td>But divorces are by no means the only document...</td>\n",
              "      <td>2</td>\n",
              "      <td>politics</td>\n",
              "      <td>parliament's record of scandal\\n \\n in a locke...</td>\n",
              "      <td>parliament's record of scandal. . in a locked ...</td>\n",
              "      <td>parliament's record scandal. . locked room hea...</td>\n",
              "      <td>parliament's record scandal. . locked room hea...</td>\n",
              "      <td>parliament' record scandal. . lock room heart ...</td>\n",
              "      <td>parliament's record scandal. . lock room heart...</td>\n",
              "      <td>parliament record scandal. . lock room heart p...</td>\n",
              "      <td>parliament' record scandal. . locked room hear...</td>\n",
              "      <td>parliament's record scandal. . locked room hea...</td>\n",
              "      <td>parliament s record scandal. . locked room hea...</td>\n",
              "      <td>. locked room heart parliament hive scandal. ...</td>\n",
              "      <td>[' locked room heart parliament hive scandal',...</td>\n",
              "      <td>[' .', 'locked room heart parliament hive scan...</td>\n",
              "      <td>['locked', 'room', 'heart', 'parliament', 'hiv...</td>\n",
              "    </tr>\n",
              "    <tr>\n",
              "      <th>1778</th>\n",
              "      <td>1778</td>\n",
              "      <td>Prutton poised for lengthy FA ban\\n \\n Southam...</td>\n",
              "      <td>He was out of order but he knows that,\" said R...</td>\n",
              "      <td>3</td>\n",
              "      <td>sport</td>\n",
              "      <td>prutton poised for lengthy fa ban\\n \\n southam...</td>\n",
              "      <td>prutton poised for lengthy fa ban. . southampt...</td>\n",
              "      <td>prutton poised lengthy fa ban. . southampton's...</td>\n",
              "      <td>prutton poised lengthy fa ban. . southampton's...</td>\n",
              "      <td>prutton pois lengthi fa ban. . southampton' da...</td>\n",
              "      <td>prutton pois lengthy fa ban. . southampton's d...</td>\n",
              "      <td>prutton pois lengthi fa ban. . southampton dav...</td>\n",
              "      <td>prutton poised lengthy fa ban. . southampton' ...</td>\n",
              "      <td>prutton poised lengthy fa ban. . southampton's...</td>\n",
              "      <td>prutton poised lengthy fa ban. . southampton s...</td>\n",
              "      <td>. southampton david prutton face possible sev...</td>\n",
              "      <td>[' southampton david prutton face possible sev...</td>\n",
              "      <td>[' .', 'southampton david prutton face possibl...</td>\n",
              "      <td>['southampton', 'david', 'prutton', 'face', 'p...</td>\n",
              "    </tr>\n",
              "    <tr>\n",
              "      <th>1779</th>\n",
              "      <td>1779</td>\n",
              "      <td>Fry set for role in Hitchhiker's\\n \\n Actor St...</td>\n",
              "      <td>Fry will provide the voice of The Guide, an el...</td>\n",
              "      <td>1</td>\n",
              "      <td>entertainment</td>\n",
              "      <td>fry set for role in hitchhiker's\\n \\n actor st...</td>\n",
              "      <td>fry set for role in hitchhiker's. . actor step...</td>\n",
              "      <td>fry set role hitchhiker's. . actor stephen fry...</td>\n",
              "      <td>fry set role hitchhiker's. . actor stephen fry...</td>\n",
              "      <td>fri set role hitchhiker's. . actor stephen fri...</td>\n",
              "      <td>fry set rol hitchhiker's. . act steph fry join...</td>\n",
              "      <td>fri set role hitchhiker's. . actor stephen fri...</td>\n",
              "      <td>fry set rol hitchhiker's. . actor stephen fry ...</td>\n",
              "      <td>fry set role hitchhiker's. . actor stephen fry...</td>\n",
              "      <td>fry set role hitchhiker s. . actor stephen fry...</td>\n",
              "      <td>. actor stephen fry joining cast forthcoming ...</td>\n",
              "      <td>[' actor stephen fry joining cast forthcoming ...</td>\n",
              "      <td>[' .', 'actor stephen fry joining cast forthco...</td>\n",
              "      <td>['actor', 'stephen', 'fry', 'joining', 'cast',...</td>\n",
              "    </tr>\n",
              "  </tbody>\n",
              "</table>\n",
              "<p>1780 rows × 19 columns</p>\n",
              "</div>"
            ],
            "text/plain": [
              "      Unnamed: 0  ...                              news_tokenized(words)\n",
              "0              0  ...  ['bubbling', 'time', 'online', 'game', 'broke'...\n",
              "1              1  ...  ['former', 'conservative', 'leader', 'william'...\n",
              "2              2  ...  ['mark', 'spencer', 'cut', 'price', 'london', ...\n",
              "3              3  ...  ['zambia', 'technical', 'director', 'kalusha',...\n",
              "4              4  ...  ['last', 'year', 'seen', 'one', 'player', 'dom...\n",
              "...          ...  ...                                                ...\n",
              "1775        1775  ...  ['india', 'cleared', 'proposal', 'allowing', '...\n",
              "1776        1776  ...  ['parent', 'refuse', 'allow', 'former', 'partn...\n",
              "1777        1777  ...  ['locked', 'room', 'heart', 'parliament', 'hiv...\n",
              "1778        1778  ...  ['southampton', 'david', 'prutton', 'face', 'p...\n",
              "1779        1779  ...  ['actor', 'stephen', 'fry', 'joining', 'cast',...\n",
              "\n",
              "[1780 rows x 19 columns]"
            ]
          },
          "metadata": {
            "tags": []
          },
          "execution_count": 2
        }
      ]
    },
    {
      "cell_type": "code",
      "metadata": {
        "colab": {
          "base_uri": "https://localhost:8080/"
        },
        "id": "G4rj0wLoJ3gO",
        "outputId": "d87a4b6f-8ea0-4143-f73a-48a191f9297f"
      },
      "source": [
        "import matplotlib.pyplot as plt\n",
        "from collections import Counter\n",
        "from sklearn.datasets import make_classification\n",
        "\n",
        "counter = Counter(data['Type'])\n",
        "print(counter)\n",
        "\n",
        "for type, _ in counter.items():\n",
        "  row_ix = data[data['Type'] == type]\n",
        "  print(row_ix)"
      ],
      "execution_count": 3,
      "outputs": [
        {
          "output_type": "stream",
          "text": [
            "Counter({'business': 414, 'sport': 413, 'politics': 334, 'tech': 320, 'entertainment': 299})\n",
            "      Unnamed: 0  ...                              news_tokenized(words)\n",
            "0              0  ...  ['bubbling', 'time', 'online', 'game', 'broke'...\n",
            "6              6  ...  ['chinese', 'net', 'using', 'population', 'loo...\n",
            "17            17  ...  ['movie', 'industry', 'struck', 'file', 'shari...\n",
            "18            18  ...  ['fast', 'web', 'access', 'encouraging', 'peop...\n",
            "22            22  ...  ['bbc', 'online', 'search', 'engine', 'used', ...\n",
            "...          ...  ...                                                ...\n",
            "1741        1741  ...  ['thousand', 'technology', 'lover', 'industry'...\n",
            "1743        1743  ...  ['fixed', 'line', 'phone', 'home', 'could', 's...\n",
            "1749        1749  ...  ['know', 'art', 'know', 'like', 'new', 'search...\n",
            "1750        1750  ...  ['ask', 'jeeves', 'bought', 'bloglines', 'webs...\n",
            "1760        1760  ...  ['mobile', 'phone', 'uk', 'celebrating', 'th',...\n",
            "\n",
            "[320 rows x 19 columns]\n",
            "      Unnamed: 0  ...                              news_tokenized(words)\n",
            "1              1  ...  ['former', 'conservative', 'leader', 'william'...\n",
            "8              8  ...  ['tony', 'blair', 'likely', 'name', 'may', 'el...\n",
            "11            11  ...  ['new', 'home', 'secretary', 'charles', 'clark...\n",
            "25            25  ...  ['divorced', 'parent', 'seeking', 'access', 'c...\n",
            "33            33  ...  ['prime', 'minister', 'donned', 'life', 'jacke...\n",
            "...          ...  ...                                                ...\n",
            "1768        1768  ...  ['thousand', 'civil', 'service', 'job', 'alrea...\n",
            "1769        1769  ...  ['veteran', 'labour', 'mp', 'former', 'cabinet...\n",
            "1774        1774  ...  ['tony', 'blair', 'told', 'labour', 'supporter...\n",
            "1776        1776  ...  ['parent', 'refuse', 'allow', 'former', 'partn...\n",
            "1777        1777  ...  ['locked', 'room', 'heart', 'parliament', 'hiv...\n",
            "\n",
            "[334 rows x 19 columns]\n",
            "      Unnamed: 0  ...                              news_tokenized(words)\n",
            "2              2  ...  ['mark', 'spencer', 'cut', 'price', 'london', ...\n",
            "5              5  ...  ['latin', 'america', 'economy', 'grew', 'best'...\n",
            "7              7  ...  ['chancellor', 'gordon', 'brown', 'given', '£b...\n",
            "9              9  ...  ['delta', 'air', 'line', 'cutting', 'domestic'...\n",
            "15            15  ...  ['retail', 'giant', 'federated', 'department',...\n",
            "...          ...  ...                                                ...\n",
            "1763        1763  ...  ['stock', 'market', 'watchdog', 'chairman', 's...\n",
            "1771        1771  ...  ['dollar', 'hovered', 'close', 'record', 'low'...\n",
            "1772        1772  ...  ['brewing', 'giant', 'inbev', 'agreed', 'buy',...\n",
            "1773        1773  ...  ['uk', 'based', 'bank', 'standard', 'chartered...\n",
            "1775        1775  ...  ['india', 'cleared', 'proposal', 'allowing', '...\n",
            "\n",
            "[414 rows x 19 columns]\n",
            "      Unnamed: 0  ...                              news_tokenized(words)\n",
            "3              3  ...  ['zambia', 'technical', 'director', 'kalusha',...\n",
            "4              4  ...  ['last', 'year', 'seen', 'one', 'player', 'dom...\n",
            "12            12  ...  ['dundee', 'united', 'eased', 'semi', 'final',...\n",
            "13            13  ...  ['world', 'number', 'one', 'lindsay', 'davenpo...\n",
            "27            27  ...  ['greg', 'rusedski', 'forced', 'withdraw', 'op...\n",
            "...          ...  ...                                                ...\n",
            "1762        1762  ...  ['stefan', 'koubek', 'say', 'banned', 'three',...\n",
            "1764        1764  ...  ['dundee', 'united', 'manager', 'ian', 'mccall...\n",
            "1766        1766  ...  ['iaaf', 'athletics', 'world', 'governing', 'b...\n",
            "1770        1770  ...  ['euan', 'murray', 'named', 'scotland', 'train...\n",
            "1778        1778  ...  ['southampton', 'david', 'prutton', 'face', 'p...\n",
            "\n",
            "[413 rows x 19 columns]\n",
            "      Unnamed: 0  ...                              news_tokenized(words)\n",
            "10            10  ...  ['actor', 'colin', 'farrell', 'make', 'debut',...\n",
            "14            14  ...  ['dame', 'muriel', 'spark', 'among', 'three', ...\n",
            "16            16  ...  ['model', 'caprice', 'holby', 'city', 'actor',...\n",
            "19            19  ...  ['pop', 'star', 'christina', 'aguilera', 'marr...\n",
            "20            20  ...  ['british', 'producer', 'wife', 'swap', 'takin...\n",
            "...          ...  ...                                                ...\n",
            "1755        1755  ...  ['movie', 'monster', 'godzilla', 'received', '...\n",
            "1761        1761  ...  ['british', 'film', 'director', 'sir', 'alan',...\n",
            "1765        1765  ...  ['oscar', 'nominated', 'film', 'biopic', 'ray'...\n",
            "1767        1767  ...  ['creator', 'buffy', 'vampire', 'slayer', 'tak...\n",
            "1779        1779  ...  ['actor', 'stephen', 'fry', 'joining', 'cast',...\n",
            "\n",
            "[299 rows x 19 columns]\n"
          ],
          "name": "stdout"
        }
      ]
    },
    {
      "cell_type": "code",
      "metadata": {
        "colab": {
          "base_uri": "https://localhost:8080/"
        },
        "id": "bbMaTnkgLkxw",
        "outputId": "8c07116e-20ed-4b01-e948-ff68d7c1cd17"
      },
      "source": [
        "!pip install imbalanced-learn\n",
        "import imblearn\n",
        "print(imblearn.__version__)\n",
        "from imblearn.under_sampling import RandomUnderSampler"
      ],
      "execution_count": 4,
      "outputs": [
        {
          "output_type": "stream",
          "text": [
            "Requirement already satisfied: imbalanced-learn in /usr/local/lib/python3.7/dist-packages (0.4.3)\n",
            "Requirement already satisfied: numpy>=1.8.2 in /usr/local/lib/python3.7/dist-packages (from imbalanced-learn) (1.19.5)\n",
            "Requirement already satisfied: scipy>=0.13.3 in /usr/local/lib/python3.7/dist-packages (from imbalanced-learn) (1.4.1)\n",
            "Requirement already satisfied: scikit-learn>=0.20 in /usr/local/lib/python3.7/dist-packages (from imbalanced-learn) (0.22.2.post1)\n",
            "Requirement already satisfied: joblib>=0.11 in /usr/local/lib/python3.7/dist-packages (from scikit-learn>=0.20->imbalanced-learn) (1.0.1)\n"
          ],
          "name": "stdout"
        },
        {
          "output_type": "stream",
          "text": [
            "/usr/local/lib/python3.7/dist-packages/sklearn/externals/six.py:31: FutureWarning: The module is deprecated in version 0.21 and will be removed in version 0.23 since we've dropped support for Python 2.7. Please rely on the official version of six (https://pypi.org/project/six/).\n",
            "  \"(https://pypi.org/project/six/).\", FutureWarning)\n"
          ],
          "name": "stderr"
        },
        {
          "output_type": "stream",
          "text": [
            "0.4.3\n"
          ],
          "name": "stdout"
        },
        {
          "output_type": "stream",
          "text": [
            "/usr/local/lib/python3.7/dist-packages/sklearn/utils/deprecation.py:144: FutureWarning: The sklearn.neighbors.base module is  deprecated in version 0.22 and will be removed in version 0.24. The corresponding classes / functions should instead be imported from sklearn.neighbors. Anything that cannot be imported from sklearn.neighbors is now part of the private API.\n",
            "  warnings.warn(message, FutureWarning)\n"
          ],
          "name": "stderr"
        }
      ]
    },
    {
      "cell_type": "code",
      "metadata": {
        "id": "VTCvBwO_L6Uk"
      },
      "source": [
        "import numpy as np\n",
        "\n",
        "d = data['news_wo_punct&single'].values.tolist()\n",
        "X=np.array(d).reshape(-1, 1)"
      ],
      "execution_count": 5,
      "outputs": []
    },
    {
      "cell_type": "code",
      "metadata": {
        "colab": {
          "base_uri": "https://localhost:8080/"
        },
        "id": "kxnTeMx_MQ9n",
        "outputId": "da1d61e5-ffa9-40f9-9b75-a61fc41435da"
      },
      "source": [
        "undersample = RandomUnderSampler(sampling_strategy='auto')\n",
        "X_under, y_under = undersample.fit_resample(X, data['Type'])"
      ],
      "execution_count": 6,
      "outputs": [
        {
          "output_type": "stream",
          "text": [
            "/usr/local/lib/python3.7/dist-packages/sklearn/utils/deprecation.py:87: FutureWarning: Function safe_indexing is deprecated; safe_indexing is deprecated in version 0.22 and will be removed in version 0.24.\n",
            "  warnings.warn(msg, category=FutureWarning)\n"
          ],
          "name": "stderr"
        }
      ]
    },
    {
      "cell_type": "code",
      "metadata": {
        "colab": {
          "base_uri": "https://localhost:8080/"
        },
        "id": "LIaNg7f_MZf9",
        "outputId": "77e41620-29c4-4f6d-b165-8bbc207600d1"
      },
      "source": [
        "print(Counter(y_under))\n",
        "print(len(X_under))"
      ],
      "execution_count": 7,
      "outputs": [
        {
          "output_type": "stream",
          "text": [
            "Counter({'business': 299, 'entertainment': 299, 'politics': 299, 'sport': 299, 'tech': 299})\n",
            "1495\n"
          ],
          "name": "stdout"
        }
      ]
    },
    {
      "cell_type": "code",
      "metadata": {
        "id": "dpyJugZHMoJC"
      },
      "source": [
        "text = pd.DataFrame(data=X_under, columns=[\"news_wo_punct&single\"])"
      ],
      "execution_count": 8,
      "outputs": []
    },
    {
      "cell_type": "code",
      "metadata": {
        "colab": {
          "base_uri": "https://localhost:8080/",
          "height": 195
        },
        "id": "ivX4XvciM5Hm",
        "outputId": "dd2ce6fe-ed8e-4d0d-b9bf-e9b430f0b456"
      },
      "source": [
        "text.head()"
      ],
      "execution_count": 9,
      "outputs": [
        {
          "output_type": "execute_result",
          "data": {
            "text/html": [
              "<div>\n",
              "<style scoped>\n",
              "    .dataframe tbody tr th:only-of-type {\n",
              "        vertical-align: middle;\n",
              "    }\n",
              "\n",
              "    .dataframe tbody tr th {\n",
              "        vertical-align: top;\n",
              "    }\n",
              "\n",
              "    .dataframe thead th {\n",
              "        text-align: right;\n",
              "    }\n",
              "</style>\n",
              "<table border=\"1\" class=\"dataframe\">\n",
              "  <thead>\n",
              "    <tr style=\"text-align: right;\">\n",
              "      <th></th>\n",
              "      <th>news_wo_punct&amp;single</th>\n",
              "    </tr>\n",
              "  </thead>\n",
              "  <tbody>\n",
              "    <tr>\n",
              "      <th>0</th>\n",
              "      <td>. trouble hit mitsubishi motor talk french ca...</td>\n",
              "    </tr>\n",
              "    <tr>\n",
              "      <th>1</th>\n",
              "      <td>. industrial production increased december ac...</td>\n",
              "    </tr>\n",
              "    <tr>\n",
              "      <th>2</th>\n",
              "      <td>. profit chinese computer firm lenovo stood s...</td>\n",
              "    </tr>\n",
              "    <tr>\n",
              "      <th>3</th>\n",
              "      <td>. us german carmaker daimlerchrysler sold car...</td>\n",
              "    </tr>\n",
              "    <tr>\n",
              "      <th>4</th>\n",
              "      <td>. libya withdrawn bn asset us asset previousl...</td>\n",
              "    </tr>\n",
              "  </tbody>\n",
              "</table>\n",
              "</div>"
            ],
            "text/plain": [
              "                                news_wo_punct&single\n",
              "0   . trouble hit mitsubishi motor talk french ca...\n",
              "1   . industrial production increased december ac...\n",
              "2   . profit chinese computer firm lenovo stood s...\n",
              "3   . us german carmaker daimlerchrysler sold car...\n",
              "4   . libya withdrawn bn asset us asset previousl..."
            ]
          },
          "metadata": {
            "tags": []
          },
          "execution_count": 9
        }
      ]
    },
    {
      "cell_type": "code",
      "metadata": {
        "id": "CUSiYq_nM_rT"
      },
      "source": [
        "Labels = pd.DataFrame(data=y_under, columns=[\"Type\"])"
      ],
      "execution_count": 10,
      "outputs": []
    },
    {
      "cell_type": "code",
      "metadata": {
        "colab": {
          "base_uri": "https://localhost:8080/",
          "height": 195
        },
        "id": "IXc-w33HNFWe",
        "outputId": "0343cd45-4991-47d5-8517-a88d773c2d3a"
      },
      "source": [
        "Labels.head()"
      ],
      "execution_count": 11,
      "outputs": [
        {
          "output_type": "execute_result",
          "data": {
            "text/html": [
              "<div>\n",
              "<style scoped>\n",
              "    .dataframe tbody tr th:only-of-type {\n",
              "        vertical-align: middle;\n",
              "    }\n",
              "\n",
              "    .dataframe tbody tr th {\n",
              "        vertical-align: top;\n",
              "    }\n",
              "\n",
              "    .dataframe thead th {\n",
              "        text-align: right;\n",
              "    }\n",
              "</style>\n",
              "<table border=\"1\" class=\"dataframe\">\n",
              "  <thead>\n",
              "    <tr style=\"text-align: right;\">\n",
              "      <th></th>\n",
              "      <th>Type</th>\n",
              "    </tr>\n",
              "  </thead>\n",
              "  <tbody>\n",
              "    <tr>\n",
              "      <th>0</th>\n",
              "      <td>business</td>\n",
              "    </tr>\n",
              "    <tr>\n",
              "      <th>1</th>\n",
              "      <td>business</td>\n",
              "    </tr>\n",
              "    <tr>\n",
              "      <th>2</th>\n",
              "      <td>business</td>\n",
              "    </tr>\n",
              "    <tr>\n",
              "      <th>3</th>\n",
              "      <td>business</td>\n",
              "    </tr>\n",
              "    <tr>\n",
              "      <th>4</th>\n",
              "      <td>business</td>\n",
              "    </tr>\n",
              "  </tbody>\n",
              "</table>\n",
              "</div>"
            ],
            "text/plain": [
              "       Type\n",
              "0  business\n",
              "1  business\n",
              "2  business\n",
              "3  business\n",
              "4  business"
            ]
          },
          "metadata": {
            "tags": []
          },
          "execution_count": 11
        }
      ]
    },
    {
      "cell_type": "code",
      "metadata": {
        "id": "zYH1CfjBNUxx",
        "colab": {
          "base_uri": "https://localhost:8080/",
          "height": 195
        },
        "outputId": "271bb483-a26a-41da-8884-90dd90d000e8"
      },
      "source": [
        "frames = [text,Labels]\n",
        "dataframe = pd.concat(frames,axis=1)\n",
        "dataframe.head()"
      ],
      "execution_count": 12,
      "outputs": [
        {
          "output_type": "execute_result",
          "data": {
            "text/html": [
              "<div>\n",
              "<style scoped>\n",
              "    .dataframe tbody tr th:only-of-type {\n",
              "        vertical-align: middle;\n",
              "    }\n",
              "\n",
              "    .dataframe tbody tr th {\n",
              "        vertical-align: top;\n",
              "    }\n",
              "\n",
              "    .dataframe thead th {\n",
              "        text-align: right;\n",
              "    }\n",
              "</style>\n",
              "<table border=\"1\" class=\"dataframe\">\n",
              "  <thead>\n",
              "    <tr style=\"text-align: right;\">\n",
              "      <th></th>\n",
              "      <th>news_wo_punct&amp;single</th>\n",
              "      <th>Type</th>\n",
              "    </tr>\n",
              "  </thead>\n",
              "  <tbody>\n",
              "    <tr>\n",
              "      <th>0</th>\n",
              "      <td>. trouble hit mitsubishi motor talk french ca...</td>\n",
              "      <td>business</td>\n",
              "    </tr>\n",
              "    <tr>\n",
              "      <th>1</th>\n",
              "      <td>. industrial production increased december ac...</td>\n",
              "      <td>business</td>\n",
              "    </tr>\n",
              "    <tr>\n",
              "      <th>2</th>\n",
              "      <td>. profit chinese computer firm lenovo stood s...</td>\n",
              "      <td>business</td>\n",
              "    </tr>\n",
              "    <tr>\n",
              "      <th>3</th>\n",
              "      <td>. us german carmaker daimlerchrysler sold car...</td>\n",
              "      <td>business</td>\n",
              "    </tr>\n",
              "    <tr>\n",
              "      <th>4</th>\n",
              "      <td>. libya withdrawn bn asset us asset previousl...</td>\n",
              "      <td>business</td>\n",
              "    </tr>\n",
              "  </tbody>\n",
              "</table>\n",
              "</div>"
            ],
            "text/plain": [
              "                                news_wo_punct&single      Type\n",
              "0   . trouble hit mitsubishi motor talk french ca...  business\n",
              "1   . industrial production increased december ac...  business\n",
              "2   . profit chinese computer firm lenovo stood s...  business\n",
              "3   . us german carmaker daimlerchrysler sold car...  business\n",
              "4   . libya withdrawn bn asset us asset previousl...  business"
            ]
          },
          "metadata": {
            "tags": []
          },
          "execution_count": 12
        }
      ]
    },
    {
      "cell_type": "code",
      "metadata": {
        "colab": {
          "base_uri": "https://localhost:8080/"
        },
        "id": "qyG-WehD1Dua",
        "outputId": "c0ba3cfe-9c18-4b96-9da4-a568013d46dd"
      },
      "source": [
        "len(Labels)"
      ],
      "execution_count": 14,
      "outputs": [
        {
          "output_type": "execute_result",
          "data": {
            "text/plain": [
              "1495"
            ]
          },
          "metadata": {
            "tags": []
          },
          "execution_count": 14
        }
      ]
    },
    {
      "cell_type": "code",
      "metadata": {
        "id": "r4mh_vBT0dJg"
      },
      "source": [
        "df = pd.DataFrame(dataframe)\n",
        "df.to_csv('/content/drive/MyDrive/BBC Dataset/bbcequtrain.csv')"
      ],
      "execution_count": 15,
      "outputs": []
    },
    {
      "cell_type": "code",
      "metadata": {
        "colab": {
          "base_uri": "https://localhost:8080/",
          "height": 195
        },
        "id": "zUjgTQjZ1YaO",
        "outputId": "550c2b01-e4b8-43e8-a074-7fc7efc50718"
      },
      "source": [
        "data = pd.read_csv('/content/drive/MyDrive/BBC Dataset/bbcequtrain.csv')\n",
        "data.head()"
      ],
      "execution_count": 16,
      "outputs": [
        {
          "output_type": "execute_result",
          "data": {
            "text/html": [
              "<div>\n",
              "<style scoped>\n",
              "    .dataframe tbody tr th:only-of-type {\n",
              "        vertical-align: middle;\n",
              "    }\n",
              "\n",
              "    .dataframe tbody tr th {\n",
              "        vertical-align: top;\n",
              "    }\n",
              "\n",
              "    .dataframe thead th {\n",
              "        text-align: right;\n",
              "    }\n",
              "</style>\n",
              "<table border=\"1\" class=\"dataframe\">\n",
              "  <thead>\n",
              "    <tr style=\"text-align: right;\">\n",
              "      <th></th>\n",
              "      <th>Unnamed: 0</th>\n",
              "      <th>news_wo_punct&amp;single</th>\n",
              "      <th>Type</th>\n",
              "    </tr>\n",
              "  </thead>\n",
              "  <tbody>\n",
              "    <tr>\n",
              "      <th>0</th>\n",
              "      <td>0</td>\n",
              "      <td>. trouble hit mitsubishi motor talk french ca...</td>\n",
              "      <td>business</td>\n",
              "    </tr>\n",
              "    <tr>\n",
              "      <th>1</th>\n",
              "      <td>1</td>\n",
              "      <td>. industrial production increased december ac...</td>\n",
              "      <td>business</td>\n",
              "    </tr>\n",
              "    <tr>\n",
              "      <th>2</th>\n",
              "      <td>2</td>\n",
              "      <td>. profit chinese computer firm lenovo stood s...</td>\n",
              "      <td>business</td>\n",
              "    </tr>\n",
              "    <tr>\n",
              "      <th>3</th>\n",
              "      <td>3</td>\n",
              "      <td>. us german carmaker daimlerchrysler sold car...</td>\n",
              "      <td>business</td>\n",
              "    </tr>\n",
              "    <tr>\n",
              "      <th>4</th>\n",
              "      <td>4</td>\n",
              "      <td>. libya withdrawn bn asset us asset previousl...</td>\n",
              "      <td>business</td>\n",
              "    </tr>\n",
              "  </tbody>\n",
              "</table>\n",
              "</div>"
            ],
            "text/plain": [
              "   Unnamed: 0                               news_wo_punct&single      Type\n",
              "0           0   . trouble hit mitsubishi motor talk french ca...  business\n",
              "1           1   . industrial production increased december ac...  business\n",
              "2           2   . profit chinese computer firm lenovo stood s...  business\n",
              "3           3   . us german carmaker daimlerchrysler sold car...  business\n",
              "4           4   . libya withdrawn bn asset us asset previousl...  business"
            ]
          },
          "metadata": {
            "tags": []
          },
          "execution_count": 16
        }
      ]
    },
    {
      "cell_type": "code",
      "metadata": {
        "colab": {
          "base_uri": "https://localhost:8080/",
          "height": 402
        },
        "id": "a2Hk36-j1rzq",
        "outputId": "acddefff-dc22-4d37-c49a-0af8eb70e86d"
      },
      "source": [
        "data"
      ],
      "execution_count": 17,
      "outputs": [
        {
          "output_type": "execute_result",
          "data": {
            "text/html": [
              "<div>\n",
              "<style scoped>\n",
              "    .dataframe tbody tr th:only-of-type {\n",
              "        vertical-align: middle;\n",
              "    }\n",
              "\n",
              "    .dataframe tbody tr th {\n",
              "        vertical-align: top;\n",
              "    }\n",
              "\n",
              "    .dataframe thead th {\n",
              "        text-align: right;\n",
              "    }\n",
              "</style>\n",
              "<table border=\"1\" class=\"dataframe\">\n",
              "  <thead>\n",
              "    <tr style=\"text-align: right;\">\n",
              "      <th></th>\n",
              "      <th>Unnamed: 0</th>\n",
              "      <th>news_wo_punct&amp;single</th>\n",
              "      <th>Type</th>\n",
              "    </tr>\n",
              "  </thead>\n",
              "  <tbody>\n",
              "    <tr>\n",
              "      <th>0</th>\n",
              "      <td>0</td>\n",
              "      <td>. trouble hit mitsubishi motor talk french ca...</td>\n",
              "      <td>business</td>\n",
              "    </tr>\n",
              "    <tr>\n",
              "      <th>1</th>\n",
              "      <td>1</td>\n",
              "      <td>. industrial production increased december ac...</td>\n",
              "      <td>business</td>\n",
              "    </tr>\n",
              "    <tr>\n",
              "      <th>2</th>\n",
              "      <td>2</td>\n",
              "      <td>. profit chinese computer firm lenovo stood s...</td>\n",
              "      <td>business</td>\n",
              "    </tr>\n",
              "    <tr>\n",
              "      <th>3</th>\n",
              "      <td>3</td>\n",
              "      <td>. us german carmaker daimlerchrysler sold car...</td>\n",
              "      <td>business</td>\n",
              "    </tr>\n",
              "    <tr>\n",
              "      <th>4</th>\n",
              "      <td>4</td>\n",
              "      <td>. libya withdrawn bn asset us asset previousl...</td>\n",
              "      <td>business</td>\n",
              "    </tr>\n",
              "    <tr>\n",
              "      <th>...</th>\n",
              "      <td>...</td>\n",
              "      <td>...</td>\n",
              "      <td>...</td>\n",
              "    </tr>\n",
              "    <tr>\n",
              "      <th>1490</th>\n",
              "      <td>1490</td>\n",
              "      <td>. explosion consumer technology continue dele...</td>\n",
              "      <td>tech</td>\n",
              "    </tr>\n",
              "    <tr>\n",
              "      <th>1491</th>\n",
              "      <td>1491</td>\n",
              "      <td>. computer help solve world difficult health ...</td>\n",
              "      <td>tech</td>\n",
              "    </tr>\n",
              "    <tr>\n",
              "      <th>1492</th>\n",
              "      <td>1492</td>\n",
              "      <td>. next generation dvd technology backed sony ...</td>\n",
              "      <td>tech</td>\n",
              "    </tr>\n",
              "    <tr>\n",
              "      <th>1493</th>\n",
              "      <td>1493</td>\n",
              "      <td>. first conviction piracy peer to peer networ...</td>\n",
              "      <td>tech</td>\n",
              "    </tr>\n",
              "    <tr>\n",
              "      <th>1494</th>\n",
              "      <td>1494</td>\n",
              "      <td>. hi tech industry starting get environmental...</td>\n",
              "      <td>tech</td>\n",
              "    </tr>\n",
              "  </tbody>\n",
              "</table>\n",
              "<p>1495 rows × 3 columns</p>\n",
              "</div>"
            ],
            "text/plain": [
              "      Unnamed: 0                               news_wo_punct&single      Type\n",
              "0              0   . trouble hit mitsubishi motor talk french ca...  business\n",
              "1              1   . industrial production increased december ac...  business\n",
              "2              2   . profit chinese computer firm lenovo stood s...  business\n",
              "3              3   . us german carmaker daimlerchrysler sold car...  business\n",
              "4              4   . libya withdrawn bn asset us asset previousl...  business\n",
              "...          ...                                                ...       ...\n",
              "1490        1490   . explosion consumer technology continue dele...      tech\n",
              "1491        1491   . computer help solve world difficult health ...      tech\n",
              "1492        1492   . next generation dvd technology backed sony ...      tech\n",
              "1493        1493   . first conviction piracy peer to peer networ...      tech\n",
              "1494        1494   . hi tech industry starting get environmental...      tech\n",
              "\n",
              "[1495 rows x 3 columns]"
            ]
          },
          "metadata": {
            "tags": []
          },
          "execution_count": 17
        }
      ]
    }
  ]
}